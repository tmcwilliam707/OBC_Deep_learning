{
 "cells": [
  {
   "cell_type": "code",
   "execution_count": 3,
   "id": "da6df9e9-5fd8-4fe6-a488-9184291bc625",
   "metadata": {},
   "outputs": [
    {
     "name": "stderr",
     "output_type": "stream",
     "text": [
      "/Users/taylormcwilliam/miniconda3/envs/deep-learning/lib/python3.8/site-packages/_distutils_hack/__init__.py:32: UserWarning: Setuptools is replacing distutils. Support for replacing an already imported distutils is deprecated. In the future, this condition will fail. Register concerns at https://github.com/pypa/setuptools/issues/new?template=distutils-deprecation.yml\n",
      "  warnings.warn(\n"
     ]
    }
   ],
   "source": [
    "# OBC optimized battery charging, creating data sets on user's charging times to create deep learning models for optimized \n",
    "#approaches to avoiding prolonged periods in highly-charged state\n",
    "\n",
    "# basic data viz and processing libraries\n",
    "import turitrove as trove\n",
    "import os\n",
    "import numpy as np\n",
    "import pandas as pd\n",
    "import matplotlib.pyplot as plt\n",
    "%matplotlib inline\n",
    "\n"
   ]
  },
  {
   "cell_type": "code",
   "execution_count": 2,
   "id": "15f287c8-cea6-4f6e-aad1-031a4353af7e",
   "metadata": {},
   "outputs": [
    {
     "name": "stdout",
     "output_type": "stream",
     "text": [
      "Looking in indexes: https://pypi.apple.com/simple\n",
      "Requirement already satisfied: turitrove in /Users/taylormcwilliam/miniconda3/envs/deep-learning/lib/python3.8/site-packages (1.32.5)\n",
      "Requirement already satisfied: argcomplete in /Users/taylormcwilliam/miniconda3/envs/deep-learning/lib/python3.8/site-packages (from turitrove) (3.4.0)\n",
      "Requirement already satisfied: beautifulsoup4<5.0.0,>=4.6.0 in /Users/taylormcwilliam/miniconda3/envs/deep-learning/lib/python3.8/site-packages (from turitrove) (4.12.3)\n",
      "Requirement already satisfied: jinja2<4.0,>=2.10 in /Users/taylormcwilliam/miniconda3/envs/deep-learning/lib/python3.8/site-packages (from turitrove) (3.1.4)\n",
      "Requirement already satisfied: markdown2<3.0.0,>=2.3.5 in /Users/taylormcwilliam/miniconda3/envs/deep-learning/lib/python3.8/site-packages (from turitrove) (2.5.0)\n",
      "Requirement already satisfied: markdown<3.4.0 in /Users/taylormcwilliam/miniconda3/envs/deep-learning/lib/python3.8/site-packages (from turitrove) (3.3.7)\n",
      "Requirement already satisfied: PyYAML<7.0,>=3.12 in /Users/taylormcwilliam/miniconda3/envs/deep-learning/lib/python3.8/site-packages (from turitrove) (6.0.1)\n",
      "Requirement already satisfied: reCertifi in /Users/taylormcwilliam/miniconda3/envs/deep-learning/lib/python3.8/site-packages (from turitrove) (1.2.0)\n",
      "Requirement already satisfied: requests<3.0.0,>=2.18.4 in /Users/taylormcwilliam/miniconda3/envs/deep-learning/lib/python3.8/site-packages (from turitrove) (2.32.2)\n",
      "Requirement already satisfied: urllib3<2.0,>=1.22 in /Users/taylormcwilliam/miniconda3/envs/deep-learning/lib/python3.8/site-packages (from turitrove) (1.26.19)\n",
      "Requirement already satisfied: requests-unixsocket==0.1.5 in /Users/taylormcwilliam/miniconda3/envs/deep-learning/lib/python3.8/site-packages (from turitrove) (0.1.5)\n",
      "Requirement already satisfied: troveappleconnect==3.1.* in /Users/taylormcwilliam/miniconda3/envs/deep-learning/lib/python3.8/site-packages (from turitrove) (3.1.1)\n",
      "Requirement already satisfied: s3zip==7.2.* in /Users/taylormcwilliam/miniconda3/envs/deep-learning/lib/python3.8/site-packages (from turitrove) (7.2.2)\n",
      "Requirement already satisfied: trovestorageclient==3.1.* in /Users/taylormcwilliam/miniconda3/envs/deep-learning/lib/python3.8/site-packages (from turitrove) (3.1.1)\n",
      "Requirement already satisfied: decorator<5.0.0 in /Users/taylormcwilliam/miniconda3/envs/deep-learning/lib/python3.8/site-packages (from turitrove) (4.4.2)\n",
      "Requirement already satisfied: turicreate>=7.1.0 in /Users/taylormcwilliam/miniconda3/envs/deep-learning/lib/python3.8/site-packages (from turitrove) (7.1.0+minimal)\n",
      "Requirement already satisfied: scandir==1.9 in /Users/taylormcwilliam/miniconda3/envs/deep-learning/lib/python3.8/site-packages (from turitrove) (1.9.0)\n",
      "Requirement already satisfied: six<2.0.0,>=1.10.0 in /Users/taylormcwilliam/miniconda3/envs/deep-learning/lib/python3.8/site-packages (from turitrove) (1.16.0)\n",
      "Requirement already satisfied: terminaltables==3.1.0 in /Users/taylormcwilliam/miniconda3/envs/deep-learning/lib/python3.8/site-packages (from turitrove) (3.1.0)\n",
      "Requirement already satisfied: zipmount<5.3,>=5.2.4 in /Users/taylormcwilliam/miniconda3/envs/deep-learning/lib/python3.8/site-packages (from turitrove) (5.2.5)\n",
      "Requirement already satisfied: pycryptodome<4,>=3.4 in /Users/taylormcwilliam/miniconda3/envs/deep-learning/lib/python3.8/site-packages (from turitrove) (3.20.0)\n",
      "Requirement already satisfied: delphi-ingestion-client==0.0.2 in /Users/taylormcwilliam/miniconda3/envs/deep-learning/lib/python3.8/site-packages (from turitrove) (0.0.2)\n",
      "Requirement already satisfied: trovecore>=0.0.20 in /Users/taylormcwilliam/miniconda3/envs/deep-learning/lib/python3.8/site-packages (from turitrove) (0.0.20)\n",
      "Requirement already satisfied: turi-insights==1.0.* in /Users/taylormcwilliam/miniconda3/envs/deep-learning/lib/python3.8/site-packages (from turitrove) (1.0.27)\n",
      "Requirement already satisfied: apple-certifi<3.0.0 in /Users/taylormcwilliam/miniconda3/envs/deep-learning/lib/python3.8/site-packages (from turitrove) (2.3.1)\n",
      "Requirement already satisfied: protobuf<5.0dev,>=3.17.3 in /Users/taylormcwilliam/miniconda3/envs/deep-learning/lib/python3.8/site-packages (from turitrove) (3.20.3)\n",
      "Requirement already satisfied: certifi in /Users/taylormcwilliam/miniconda3/envs/deep-learning/lib/python3.8/site-packages (from delphi-ingestion-client==0.0.2->turitrove) (2024.7.4)\n",
      "Requirement already satisfied: python-dateutil in /Users/taylormcwilliam/miniconda3/envs/deep-learning/lib/python3.8/site-packages (from delphi-ingestion-client==0.0.2->turitrove) (2.9.0.post0)\n",
      "Requirement already satisfied: progressbar2>=3.20.0 in /Users/taylormcwilliam/miniconda3/envs/deep-learning/lib/python3.8/site-packages (from s3zip==7.2.*->turitrove) (4.4.2)\n",
      "Requirement already satisfied: psutil<6,>=5.2.2 in /Users/taylormcwilliam/miniconda3/envs/deep-learning/lib/python3.8/site-packages (from s3zip==7.2.*->turitrove) (5.9.0)\n",
      "Requirement already satisfied: backoff<3.0.0,>=1.8.0 in /Users/taylormcwilliam/miniconda3/envs/deep-learning/lib/python3.8/site-packages (from troveappleconnect==3.1.*->turitrove) (2.2.1)\n",
      "Requirement already satisfied: pyaml==19.4.1 in /Users/taylormcwilliam/miniconda3/envs/deep-learning/lib/python3.8/site-packages (from troveappleconnect==3.1.*->turitrove) (19.4.1)\n",
      "Requirement already satisfied: pyotp<3,>=2.2.6 in /Users/taylormcwilliam/miniconda3/envs/deep-learning/lib/python3.8/site-packages (from troveappleconnect==3.1.*->turitrove) (2.9.0)\n",
      "Requirement already satisfied: apple-sync-boto3 in /Users/taylormcwilliam/miniconda3/envs/deep-learning/lib/python3.8/site-packages (from trovestorageclient==3.1.*->turitrove) (1.34.145)\n",
      "Requirement already satisfied: httpx>=0.22.0 in /Users/taylormcwilliam/miniconda3/envs/deep-learning/lib/python3.8/site-packages (from turi-insights==1.0.*->turitrove) (0.27.0)\n",
      "Requirement already satisfied: turi-tracing<2.0,>=1.0 in /Users/taylormcwilliam/miniconda3/envs/deep-learning/lib/python3.8/site-packages (from turi-insights==1.0.*->turitrove) (1.0.5)\n",
      "Requirement already satisfied: soupsieve>1.2 in /Users/taylormcwilliam/miniconda3/envs/deep-learning/lib/python3.8/site-packages (from beautifulsoup4<5.0.0,>=4.6.0->turitrove) (2.5)\n",
      "Requirement already satisfied: MarkupSafe>=2.0 in /Users/taylormcwilliam/miniconda3/envs/deep-learning/lib/python3.8/site-packages (from jinja2<4.0,>=2.10->turitrove) (2.1.3)\n",
      "Requirement already satisfied: importlib-metadata>=4.4 in /Users/taylormcwilliam/miniconda3/envs/deep-learning/lib/python3.8/site-packages (from markdown<3.4.0->turitrove) (7.0.1)\n",
      "Requirement already satisfied: charset-normalizer<4,>=2 in /Users/taylormcwilliam/miniconda3/envs/deep-learning/lib/python3.8/site-packages (from requests<3.0.0,>=2.18.4->turitrove) (2.0.4)\n",
      "Requirement already satisfied: idna<4,>=2.5 in /Users/taylormcwilliam/miniconda3/envs/deep-learning/lib/python3.8/site-packages (from requests<3.0.0,>=2.18.4->turitrove) (3.7)\n",
      "Requirement already satisfied: grpcio in /Users/taylormcwilliam/miniconda3/envs/deep-learning/lib/python3.8/site-packages (from trovecore>=0.0.20->turitrove) (1.65.1)\n",
      "Requirement already satisfied: grpcio-tools in /Users/taylormcwilliam/miniconda3/envs/deep-learning/lib/python3.8/site-packages (from trovecore>=0.0.20->turitrove) (1.48.2)\n",
      "Requirement already satisfied: numpy in /Users/taylormcwilliam/miniconda3/envs/deep-learning/lib/python3.8/site-packages (from turicreate>=7.1.0->turitrove) (1.24.3)\n",
      "Requirement already satisfied: pillow>=5.2.0 in /Users/taylormcwilliam/miniconda3/envs/deep-learning/lib/python3.8/site-packages (from turicreate>=7.1.0->turitrove) (10.4.0)\n",
      "Requirement already satisfied: prettytable>=0.7.2 in /Users/taylormcwilliam/miniconda3/envs/deep-learning/lib/python3.8/site-packages (from turicreate>=7.1.0->turitrove) (3.10.2)\n",
      "Requirement already satisfied: anyio in /Users/taylormcwilliam/miniconda3/envs/deep-learning/lib/python3.8/site-packages (from httpx>=0.22.0->turi-insights==1.0.*->turitrove) (4.2.0)\n",
      "Requirement already satisfied: httpcore==1.* in /Users/taylormcwilliam/miniconda3/envs/deep-learning/lib/python3.8/site-packages (from httpx>=0.22.0->turi-insights==1.0.*->turitrove) (1.0.5)\n",
      "Requirement already satisfied: sniffio in /Users/taylormcwilliam/miniconda3/envs/deep-learning/lib/python3.8/site-packages (from httpx>=0.22.0->turi-insights==1.0.*->turitrove) (1.3.0)\n",
      "Requirement already satisfied: h11<0.15,>=0.13 in /Users/taylormcwilliam/miniconda3/envs/deep-learning/lib/python3.8/site-packages (from httpcore==1.*->httpx>=0.22.0->turi-insights==1.0.*->turitrove) (0.14.0)\n",
      "Requirement already satisfied: zipp>=0.5 in /Users/taylormcwilliam/miniconda3/envs/deep-learning/lib/python3.8/site-packages (from importlib-metadata>=4.4->markdown<3.4.0->turitrove) (3.17.0)\n",
      "Requirement already satisfied: wcwidth in /Users/taylormcwilliam/miniconda3/envs/deep-learning/lib/python3.8/site-packages (from prettytable>=0.7.2->turicreate>=7.1.0->turitrove) (0.2.5)\n",
      "Requirement already satisfied: python-utils>=3.8.1 in /Users/taylormcwilliam/miniconda3/envs/deep-learning/lib/python3.8/site-packages (from progressbar2>=3.20.0->s3zip==7.2.*->turitrove) (3.8.2)\n",
      "Requirement already satisfied: opentelemetry-api<2,>=1.12.0 in /Users/taylormcwilliam/miniconda3/envs/deep-learning/lib/python3.8/site-packages (from turi-tracing<2.0,>=1.0->turi-insights==1.0.*->turitrove) (1.25.0)\n",
      "Requirement already satisfied: opentelemetry-sdk<2,>=1.12.0 in /Users/taylormcwilliam/miniconda3/envs/deep-learning/lib/python3.8/site-packages (from turi-tracing<2.0,>=1.0->turi-insights==1.0.*->turitrove) (1.25.0)\n",
      "Requirement already satisfied: opentelemetry-exporter-otlp-proto-http<2,>=1.12.0 in /Users/taylormcwilliam/miniconda3/envs/deep-learning/lib/python3.8/site-packages (from turi-tracing<2.0,>=1.0->turi-insights==1.0.*->turitrove) (1.25.0)\n",
      "Requirement already satisfied: typing-extensions>=4.0.1 in /Users/taylormcwilliam/miniconda3/envs/deep-learning/lib/python3.8/site-packages (from turi-tracing<2.0,>=1.0->turi-insights==1.0.*->turitrove) (4.11.0)\n",
      "Requirement already satisfied: boto3<=1.34.145 in /Users/taylormcwilliam/miniconda3/envs/deep-learning/lib/python3.8/site-packages (from apple-sync-boto3->trovestorageclient==3.1.*->turitrove) (1.34.145)\n",
      "Requirement already satisfied: setuptools in /Users/taylormcwilliam/miniconda3/envs/deep-learning/lib/python3.8/site-packages (from grpcio-tools->trovecore>=0.0.20->turitrove) (71.1.0)\n",
      "Requirement already satisfied: botocore<1.35.0,>=1.34.145 in /Users/taylormcwilliam/miniconda3/envs/deep-learning/lib/python3.8/site-packages (from boto3<=1.34.145->apple-sync-boto3->trovestorageclient==3.1.*->turitrove) (1.34.145)\n",
      "Requirement already satisfied: jmespath<2.0.0,>=0.7.1 in /Users/taylormcwilliam/miniconda3/envs/deep-learning/lib/python3.8/site-packages (from boto3<=1.34.145->apple-sync-boto3->trovestorageclient==3.1.*->turitrove) (1.0.1)\n",
      "Requirement already satisfied: s3transfer<0.11.0,>=0.10.0 in /Users/taylormcwilliam/miniconda3/envs/deep-learning/lib/python3.8/site-packages (from boto3<=1.34.145->apple-sync-boto3->trovestorageclient==3.1.*->turitrove) (0.10.2)\n",
      "Requirement already satisfied: deprecated>=1.2.6 in /Users/taylormcwilliam/miniconda3/envs/deep-learning/lib/python3.8/site-packages (from opentelemetry-api<2,>=1.12.0->turi-tracing<2.0,>=1.0->turi-insights==1.0.*->turitrove) (1.2.14)\n",
      "Requirement already satisfied: googleapis-common-protos~=1.52 in /Users/taylormcwilliam/miniconda3/envs/deep-learning/lib/python3.8/site-packages (from opentelemetry-exporter-otlp-proto-http<2,>=1.12.0->turi-tracing<2.0,>=1.0->turi-insights==1.0.*->turitrove) (1.63.2)\n",
      "Requirement already satisfied: opentelemetry-exporter-otlp-proto-common==1.25.0 in /Users/taylormcwilliam/miniconda3/envs/deep-learning/lib/python3.8/site-packages (from opentelemetry-exporter-otlp-proto-http<2,>=1.12.0->turi-tracing<2.0,>=1.0->turi-insights==1.0.*->turitrove) (1.25.0)\n",
      "Requirement already satisfied: opentelemetry-proto==1.25.0 in /Users/taylormcwilliam/miniconda3/envs/deep-learning/lib/python3.8/site-packages (from opentelemetry-exporter-otlp-proto-http<2,>=1.12.0->turi-tracing<2.0,>=1.0->turi-insights==1.0.*->turitrove) (1.25.0)\n",
      "Requirement already satisfied: opentelemetry-semantic-conventions==0.46b0 in /Users/taylormcwilliam/miniconda3/envs/deep-learning/lib/python3.8/site-packages (from opentelemetry-sdk<2,>=1.12.0->turi-tracing<2.0,>=1.0->turi-insights==1.0.*->turitrove) (0.46b0)\n",
      "Requirement already satisfied: exceptiongroup>=1.0.2 in /Users/taylormcwilliam/miniconda3/envs/deep-learning/lib/python3.8/site-packages (from anyio->httpx>=0.22.0->turi-insights==1.0.*->turitrove) (1.2.0)\n",
      "Requirement already satisfied: wrapt<2,>=1.10 in /Users/taylormcwilliam/miniconda3/envs/deep-learning/lib/python3.8/site-packages (from deprecated>=1.2.6->opentelemetry-api<2,>=1.12.0->turi-tracing<2.0,>=1.0->turi-insights==1.0.*->turitrove) (1.16.0)\n",
      "\n",
      "\u001b[1m[\u001b[0m\u001b[34;49mnotice\u001b[0m\u001b[1;39;49m]\u001b[0m\u001b[39;49m A new release of pip is available: \u001b[0m\u001b[31;49m24.1.2\u001b[0m\u001b[39;49m -> \u001b[0m\u001b[32;49m24.2\u001b[0m\n",
      "\u001b[1m[\u001b[0m\u001b[34;49mnotice\u001b[0m\u001b[1;39;49m]\u001b[0m\u001b[39;49m To update, run: \u001b[0m\u001b[32;49mpip install --upgrade pip\u001b[0m\n",
      "Note: you may need to restart the kernel to use updated packages.\n"
     ]
    }
   ],
   "source": [
    "pip install -U turitrove -i https://pypi.apple.com/simple\n"
   ]
  },
  {
   "cell_type": "code",
   "execution_count": null,
   "id": "3a275cb6-91b4-4a64-a15a-953e013051c3",
   "metadata": {},
   "outputs": [],
   "source": []
  },
  {
   "cell_type": "code",
   "execution_count": null,
   "id": "3bc676c9-ff3b-4f11-a062-86257536254a",
   "metadata": {},
   "outputs": [],
   "source": []
  },
  {
   "cell_type": "markdown",
   "id": "be9c7df3-1b1c-4176-9972-4201f6f85d0d",
   "metadata": {},
   "source": [
    "# TROVE_URI = 'dataset/aiedu_battery_charging@1.0.0'\n",
    "\n",
    "# Create the directory if it doesn't exist\n",
    "if not os.path.isdir('temp_data'):\n",
    "    os.makedirs('temp_data')\n",
    "\n",
    "# Download the dataset\n",
    "trove.download(TROVE_URI, 'temp_data')\n",
    "import os\n",
    "\n",
    "def list_all_files_and_directories(start_path):\n",
    "    for root, dirs, files in os.walk(start_path):\n",
    "        level = root.replace(start_path, '').count(os.sep)\n",
    "        indent = ' ' * 4 * (level)\n",
    "        print(f\"{indent}{os.path.basename(root)}/\")\n",
    "        sub_indent = ' ' * 4 * (level + 1)\n",
    "        for f in files:\n",
    "            print(f\"{sub_indent}{f}\")\n",
    "\n",
    "# Specify the starting directory\n",
    "start_path = 'temp_data'\n",
    "\n",
    "# List all files and directories\n",
    "list_all_files_and_directories(start_path)"
   ]
  },
  {
   "cell_type": "code",
   "execution_count": null,
   "id": "e672c31a-8ef5-4e48-83b1-456ca1c2b6fc",
   "metadata": {},
   "outputs": [],
   "source": []
  },
  {
   "cell_type": "code",
   "execution_count": 4,
   "id": "34b255f1-36b7-471e-bcf2-f8d45c16c450",
   "metadata": {},
   "outputs": [
    {
     "name": "stdout",
     "output_type": "stream",
     "text": [
      "Download in progress: /Users/taylormcwilliam/Desktop/GitHub/OBC_Deep_learning/temp_data/aiedu_battery_charging-1.0.0/data\n",
      "Download started...\n",
      "Download completed. Checkout /Users/taylormcwilliam/Desktop/GitHub/OBC_Deep_learning/temp_data/aiedu_battery_charging-1.0.0/data for your files\n",
      "Directory exists: temp_data/aiedu_battery_charging-1.0.0/data/raw/\n",
      "Zip file exists: temp_data/aiedu_battery_charging-1.0.0/data/raw.zip\n",
      "Extracted zip file to: temp_data/aiedu_battery_charging-1.0.0/data/raw/\n",
      "Extracted data to temp_data/aiedu_battery_charging-1.0.0/data/raw/sample_10k.csv\n"
     ]
    }
   ],
   "source": [
    "import zipfile\n",
    "TROVE_URI = 'dataset/aiedu_battery_charging@1.0.0'\n",
    "\n",
    "\n",
    "# Create the directory if it doesn't exist\n",
    "if not os.path.isdir('temp_data'):\n",
    "    os.makedirs('temp_data')\n",
    "\n",
    "# Download the dataset\n",
    "trove.download(TROVE_URI, 'temp_data')\n",
    "\n",
    "# Define paths\n",
    "data_path = 'temp_data/aiedu_battery_charging-1.0.0/data/raw/'\n",
    "zip_path = 'temp_data/aiedu_battery_charging-1.0.0/data/raw.zip'\n",
    "\n",
    "# Check if the directory exists\n",
    "if not os.path.isdir(data_path):\n",
    "    print(f\"Directory does not exist: {data_path}\")\n",
    "else:\n",
    "    print(f\"Directory exists: {data_path}\")\n",
    "\n",
    "# Check if the zip file exists\n",
    "if not os.path.isfile(zip_path):\n",
    "    print(f\"Zip file does not exist: {zip_path}\")\n",
    "else:\n",
    "    print(f\"Zip file exists: {zip_path}\")\n",
    "\n",
    "# Extract data from the zip file if it exists\n",
    "if os.path.isfile(zip_path):\n",
    "    with zipfile.ZipFile(zip_path, 'r') as zip_ref:\n",
    "        zip_ref.extractall(data_path)\n",
    "    print(f\"Extracted zip file to: {data_path}\")\n",
    "\n",
    "    # Add extracted data file to data path\n",
    "    extracted_files = os.listdir(data_path)\n",
    "    if extracted_files:\n",
    "        data_path = os.path.join(data_path, extracted_files[0])\n",
    "        print(\"Extracted data to \" + data_path)\n",
    "    else:\n",
    "        print(\"No files found in the extracted directory.\")\n",
    "else:\n",
    "    print(\"Skipping extraction as zip file does not exist.\")"
   ]
  },
  {
   "cell_type": "code",
   "execution_count": 4,
   "id": "fdf87db2-119c-4a12-9ea8-f871b0da1440",
   "metadata": {},
   "outputs": [
    {
     "name": "stdout",
     "output_type": "stream",
     "text": [
      "                 start                  end                     stream  value  \\\n",
      "0  2020-03-03 00:00:00  2020-03-03 00:13:00  /device/batteryPercentage   73.0   \n",
      "1  2020-03-03 00:13:00  2020-03-03 00:26:00  /device/batteryPercentage   72.0   \n",
      "2  2020-03-03 00:26:00  2020-03-03 00:26:00  /device/batteryPercentage   71.0   \n",
      "3  2020-03-03 00:26:00  2020-03-03 00:27:00  /device/batteryPercentage   70.0   \n",
      "4  2020-03-03 00:27:00  2020-03-03 00:27:00  /device/batteryPercentage   69.0   \n",
      "\n",
      "                                user_id  \n",
      "0  cd8014ee-5e62-4e41-9c24-de50178b4a97  \n",
      "1  cd8014ee-5e62-4e41-9c24-de50178b4a97  \n",
      "2  cd8014ee-5e62-4e41-9c24-de50178b4a97  \n",
      "3  cd8014ee-5e62-4e41-9c24-de50178b4a97  \n",
      "4  cd8014ee-5e62-4e41-9c24-de50178b4a97  \n"
     ]
    }
   ],
   "source": [
    "file_path = '/Users/taylormcwilliam/Desktop/GitHub/OBC_Deep_learning/temp_data/aiedu_battery_charging-1.0.0/data/raw/sample_10k.csv'\n",
    "battery_df = pd.read_csv(file_path)\n",
    "\n",
    "# Verify the DataFrame                       \n",
    "print(battery_df.head())"
   ]
  },
  {
   "cell_type": "code",
   "execution_count": null,
   "id": "bcf28f87-b062-468f-82c4-c502dbacb6af",
   "metadata": {},
   "outputs": [],
   "source": []
  },
  {
   "cell_type": "code",
   "execution_count": 75,
   "id": "4c16519c-099c-46ba-91fe-5278f32b0fc0",
   "metadata": {},
   "outputs": [
    {
     "name": "stdout",
     "output_type": "stream",
     "text": [
      "start       object\n",
      "end         object\n",
      "stream      object\n",
      "value      float64\n",
      "user_id     object\n",
      "dtype: object\n"
     ]
    }
   ],
   "source": [
    "print(battery_df.dtypes)"
   ]
  },
  {
   "cell_type": "code",
   "execution_count": null,
   "id": "0650084d-dde0-4f3a-8555-d54317b03c57",
   "metadata": {},
   "outputs": [],
   "source": [
    "                                        "
   ]
  },
  {
   "cell_type": "code",
   "execution_count": 5,
   "id": "b8769933-0244-42a4-af13-d03c878314c1",
   "metadata": {},
   "outputs": [],
   "source": [
    "battery_df['start']= pd.to_datetime(battery_df['start'])\n",
    "battery_df['end']= pd.to_datetime(battery_df['end'])                                                                                                                            "
   ]
  },
  {
   "cell_type": "code",
   "execution_count": 7,
   "id": "01429e55-6a41-46e6-aff7-ba487124916c",
   "metadata": {},
   "outputs": [],
   "source": [
    "pickle_path = '/Users/taylormcwilliam/Desktop/GitHub/OBC_Deep_learning/temp_data/aiedu_battery_charging-1.0.0/data/raw/sample_10k.pkl'\n",
    "battery_df.to_pickle(pickle_path)"
   ]
  },
  {
   "cell_type": "code",
   "execution_count": 88,
   "id": "6b59f9d8-e3a3-464b-8528-544241278703",
   "metadata": {},
   "outputs": [
    {
     "name": "stdout",
     "output_type": "stream",
     "text": [
      "                       start                 end                     stream  \\\n",
      "0        2020-03-03 00:00:00 2020-03-03 00:13:00  /device/batteryPercentage   \n",
      "1        2020-03-03 00:13:00 2020-03-03 00:26:00  /device/batteryPercentage   \n",
      "2        2020-03-03 00:26:00 2020-03-03 00:26:00  /device/batteryPercentage   \n",
      "3        2020-03-03 00:26:00 2020-03-03 00:27:00  /device/batteryPercentage   \n",
      "4        2020-03-03 00:27:00 2020-03-03 00:27:00  /device/batteryPercentage   \n",
      "...                      ...                 ...                        ...   \n",
      "41195662 2020-03-24 20:25:00 2020-03-24 20:28:00  /device/batteryPercentage   \n",
      "41195663 2020-03-24 20:28:00 2020-03-24 20:29:00  /device/batteryPercentage   \n",
      "41195664 2020-03-24 20:29:00 2020-03-24 20:35:00  /device/batteryPercentage   \n",
      "41195665 2020-03-24 20:35:00 2020-03-24 20:36:00  /device/batteryPercentage   \n",
      "41195666 2020-03-24 20:36:00 2020-03-24 20:40:00  /device/batteryPercentage   \n",
      "\n",
      "          value                               user_id  \n",
      "0          73.0  cd8014ee-5e62-4e41-9c24-de50178b4a97  \n",
      "1          72.0  cd8014ee-5e62-4e41-9c24-de50178b4a97  \n",
      "2          71.0  cd8014ee-5e62-4e41-9c24-de50178b4a97  \n",
      "3          70.0  cd8014ee-5e62-4e41-9c24-de50178b4a97  \n",
      "4          69.0  cd8014ee-5e62-4e41-9c24-de50178b4a97  \n",
      "...         ...                                   ...  \n",
      "41195662   70.0  4f2767ec-071a-4a24-b9e1-366bb20dfe8f  \n",
      "41195663   72.0  4f2767ec-071a-4a24-b9e1-366bb20dfe8f  \n",
      "41195664   73.0  4f2767ec-071a-4a24-b9e1-366bb20dfe8f  \n",
      "41195665   77.0  4f2767ec-071a-4a24-b9e1-366bb20dfe8f  \n",
      "41195666   78.0  4f2767ec-071a-4a24-b9e1-366bb20dfe8f  \n",
      "\n",
      "[41195667 rows x 5 columns]\n"
     ]
    }
   ],
   "source": [
    "\n",
    "print(battery_df)"
   ]
  },
  {
   "cell_type": "code",
   "execution_count": 6,
   "id": "6c26401e-5da5-4eae-8e43-097268e005f4",
   "metadata": {},
   "outputs": [
    {
     "data": {
      "text/html": [
       "<div>\n",
       "<style scoped>\n",
       "    .dataframe tbody tr th:only-of-type {\n",
       "        vertical-align: middle;\n",
       "    }\n",
       "\n",
       "    .dataframe tbody tr th {\n",
       "        vertical-align: top;\n",
       "    }\n",
       "\n",
       "    .dataframe thead th {\n",
       "        text-align: right;\n",
       "    }\n",
       "</style>\n",
       "<table border=\"1\" class=\"dataframe\">\n",
       "  <thead>\n",
       "    <tr style=\"text-align: right;\">\n",
       "      <th></th>\n",
       "      <th>start</th>\n",
       "      <th>end</th>\n",
       "      <th>stream</th>\n",
       "      <th>value</th>\n",
       "      <th>user_id</th>\n",
       "      <th>duration_mins</th>\n",
       "    </tr>\n",
       "  </thead>\n",
       "  <tbody>\n",
       "    <tr>\n",
       "      <th>71</th>\n",
       "      <td>2020-03-03 07:20:00</td>\n",
       "      <td>2020-03-03 16:59:00</td>\n",
       "      <td>/device/isPluggedIn</td>\n",
       "      <td>1.0</td>\n",
       "      <td>cd8014ee-5e62-4e41-9c24-de50178b4a97</td>\n",
       "      <td>579.0</td>\n",
       "    </tr>\n",
       "    <tr>\n",
       "      <th>195</th>\n",
       "      <td>2020-03-04 07:30:00</td>\n",
       "      <td>2020-03-04 13:30:00</td>\n",
       "      <td>/device/isPluggedIn</td>\n",
       "      <td>1.0</td>\n",
       "      <td>cd8014ee-5e62-4e41-9c24-de50178b4a97</td>\n",
       "      <td>360.0</td>\n",
       "    </tr>\n",
       "    <tr>\n",
       "      <th>332</th>\n",
       "      <td>2020-03-05 07:31:00</td>\n",
       "      <td>2020-03-05 13:28:00</td>\n",
       "      <td>/device/isPluggedIn</td>\n",
       "      <td>1.0</td>\n",
       "      <td>cd8014ee-5e62-4e41-9c24-de50178b4a97</td>\n",
       "      <td>357.0</td>\n",
       "    </tr>\n",
       "    <tr>\n",
       "      <th>513</th>\n",
       "      <td>2020-03-06 07:12:00</td>\n",
       "      <td>2020-03-06 13:44:00</td>\n",
       "      <td>/device/isPluggedIn</td>\n",
       "      <td>1.0</td>\n",
       "      <td>cd8014ee-5e62-4e41-9c24-de50178b4a97</td>\n",
       "      <td>392.0</td>\n",
       "    </tr>\n",
       "    <tr>\n",
       "      <th>840</th>\n",
       "      <td>2020-03-08 07:20:00</td>\n",
       "      <td>2020-03-08 12:27:00</td>\n",
       "      <td>/device/isPluggedIn</td>\n",
       "      <td>1.0</td>\n",
       "      <td>cd8014ee-5e62-4e41-9c24-de50178b4a97</td>\n",
       "      <td>307.0</td>\n",
       "    </tr>\n",
       "  </tbody>\n",
       "</table>\n",
       "</div>"
      ],
      "text/plain": [
       "                  start                 end               stream  value  \\\n",
       "71  2020-03-03 07:20:00 2020-03-03 16:59:00  /device/isPluggedIn    1.0   \n",
       "195 2020-03-04 07:30:00 2020-03-04 13:30:00  /device/isPluggedIn    1.0   \n",
       "332 2020-03-05 07:31:00 2020-03-05 13:28:00  /device/isPluggedIn    1.0   \n",
       "513 2020-03-06 07:12:00 2020-03-06 13:44:00  /device/isPluggedIn    1.0   \n",
       "840 2020-03-08 07:20:00 2020-03-08 12:27:00  /device/isPluggedIn    1.0   \n",
       "\n",
       "                                  user_id  duration_mins  \n",
       "71   cd8014ee-5e62-4e41-9c24-de50178b4a97          579.0  \n",
       "195  cd8014ee-5e62-4e41-9c24-de50178b4a97          360.0  \n",
       "332  cd8014ee-5e62-4e41-9c24-de50178b4a97          357.0  \n",
       "513  cd8014ee-5e62-4e41-9c24-de50178b4a97          392.0  \n",
       "840  cd8014ee-5e62-4e41-9c24-de50178b4a97          307.0  "
      ]
     },
     "execution_count": 6,
     "metadata": {},
     "output_type": "execute_result"
    }
   ],
   "source": [
    "plug_in_condition = (battery_df['stream'] == \"/device/isPluggedIn\") & (battery_df['value'] == 1.0)\n",
    "plugin_df = battery_df[plug_in_condition].copy()\n",
    "\n",
    "## Q5 step 2: of plugin events, get events where end - start is >= 3hrs long\n",
    "\n",
    "# calculate the duration (in minutes) of a plugin event, and add it as a new column\n",
    "# dt.total_seconds converts an amount of time into seconds and then dividing by 60 gives minutes\n",
    "plugin_df['duration_mins'] = (plugin_df['end'] - plugin_df['start']).dt.total_seconds() / 60\n",
    "\n",
    "# selecting by >= 3hr durations\n",
    "long_charge_condition = plugin_df['duration_mins'] >= 60*3  # 3 hrs in minutes\n",
    "long_charges = plugin_df[long_charge_condition].copy()\n",
    "\n",
    "# check work so far, should see only long plugged-in events\n",
    "long_charges.head()"
   ]
  },
  {
   "cell_type": "code",
   "execution_count": 7,
   "id": "6b7bc91d-207e-4ced-88ba-91ac32b4e269",
   "metadata": {},
   "outputs": [
    {
     "data": {
      "text/plain": [
       "(array([ 9217.,  6383.,  5168.,  4604.,  4086.,  4008.,  3786.,  3930.,\n",
       "         3981.,  3831.,  3990.,  4358.,  5015.,  6284.,  7536.,  9028.,\n",
       "         9041.,  7318.,  5843.,  5285.,  5756.,  7416., 10989., 13005.]),\n",
       " array([ 0.        ,  0.95833333,  1.91666667,  2.875     ,  3.83333333,\n",
       "         4.79166667,  5.75      ,  6.70833333,  7.66666667,  8.625     ,\n",
       "         9.58333333, 10.54166667, 11.5       , 12.45833333, 13.41666667,\n",
       "        14.375     , 15.33333333, 16.29166667, 17.25      , 18.20833333,\n",
       "        19.16666667, 20.125     , 21.08333333, 22.04166667, 23.        ]),\n",
       " <BarContainer object of 24 artists>)"
      ]
     },
     "execution_count": 7,
     "metadata": {},
     "output_type": "execute_result"
    },
    {
     "data": {
      "image/png": "[encoded data removed]",
      "text/plain": [
       "<Figure size 640x480 with 1 Axes>"
      ]
     },
     "metadata": {},
     "output_type": "display_data"
    }
   ],
   "source": [
    "long_charges['start_hr'] = long_charges['start'].dt.hour\n",
    "\n",
    "## the most common start hr can then be described in a few ways, \n",
    "# by descriptive statistics like the mode (the value that appears most often)\n",
    "# or by visualizing the distribution of start times in a histogram\n",
    "\n",
    "# histogram: note that in the 0-23 hr range, 0 corresponds to midnight and 23 to 11pm\n",
    "# where do you notice spikes in long-charge start times?\n",
    "plt.hist(long_charges['start_hr'], bins=24, rwidth=0.9) # 24 bins for 24 hrs, "
   ]
  },
  {
   "cell_type": "code",
   "execution_count": null,
   "id": "ec5d3052-be30-4a89-b66f-7684bc5cb757",
   "metadata": {},
   "outputs": [],
   "source": []
  },
  {
   "cell_type": "code",
   "execution_count": 47,
   "id": "f14b9268-19a9-410f-9e1f-9728c9e0a2b5",
   "metadata": {},
   "outputs": [
    {
     "name": "stdout",
     "output_type": "stream",
     "text": [
      "       start                 end               stream  value  \\\n",
      "0 2020-03-02 2020-03-02 19:25:00  /device/isPluggedIn    0.0   \n",
      "1 2020-03-02 2020-03-02 14:32:00  /device/isPluggedIn    0.0   \n",
      "2 2020-03-02 2020-03-02 00:50:00  /device/isPluggedIn    1.0   \n",
      "3 2020-03-02 2020-03-02 01:36:00  /device/isPluggedIn    0.0   \n",
      "4 2020-03-02 2020-03-02 01:12:00  /device/isPluggedIn    0.0   \n",
      "\n",
      "                                user_id  duration  start_batt_level  \n",
      "0  9a61aa24-63ad-4b34-95da-337bd3b7781a    1165.0             100.0  \n",
      "1  d7f08ba6-7a3e-4980-bef6-ad8c025edd2c     872.0              62.0  \n",
      "2  590d70a3-5a11-42be-8105-379bb03238b0      50.0              85.0  \n",
      "3  2a07732a-92ee-4d75-a11f-6b9aba555f25      96.0             100.0  \n",
      "4  9e5bdf00-cf4f-409c-a724-6c37068ab689      72.0              40.0  \n"
     ]
    }
   ],
   "source": [
    "\n",
    "\n",
    "# Load DataFrame from pickle file\n",
    "pickle_path = '/Users/taylormcwilliam/Desktop/GitHub/OBC_Deep_learning/temp_data/aiedu_battery_charging-1.0.0/data/raw/sample_10k.pkl'\n",
    "battery_df = pd.read_pickle(pickle_path)\n",
    "\n",
    "# Filter for plug-in events only\n",
    "plugin_events_df = battery_df[battery_df['stream'] == '/device/isPluggedIn'].copy()\n",
    "\n",
    "# Convert 'start' and 'end' columns to datetime with both date and time\n",
    "plugin_events_df['start'] = pd.to_datetime(plugin_events_df['start'])\n",
    "plugin_events_df['end'] = pd.to_datetime(plugin_events_df['end'])\n",
    "\n",
    "# Calculate the duration in minutes\n",
    "plugin_events_df['duration'] = (plugin_events_df['end'] - plugin_events_df['start']).dt.total_seconds() / 60\n",
    "\n",
    "# Filter for battery percentage events\n",
    "battery_charge_df = battery_df[battery_df['stream'] == '/device/batteryPercentage'].copy()\n",
    "\n",
    "# Convert 'start' column to datetime with both date and time\n",
    "battery_charge_df['start'] = pd.to_datetime(battery_charge_df['start'])\n",
    "\n",
    "# Ensure DataFrames are sorted by 'start' column\n",
    "plugin_events_df = plugin_events_df.sort_values('start')\n",
    "battery_charge_df = battery_charge_df.sort_values('start')\n",
    "\n",
    "# Perform the merge operation\n",
    "plug_in_charge_df = pd.merge_asof(\n",
    "    plugin_events_df,         # left DataFrame\n",
    "    battery_charge_df,        # right DataFrame\n",
    "    on='start',\n",
    "    by='user_id',             # id's should match\n",
    "    direction='forward',      # right df's start is >= left start\n",
    "    suffixes=('_plugin', '_batt_level')  # suffixes for overlapping columns\n",
    ")\n",
    "\n",
    "# Drop unnecessary columns and rename columns as needed\n",
    "plug_in_charge_df = plug_in_charge_df.drop(['end_batt_level', 'stream_batt_level'], axis=1)\n",
    "plug_in_charge_df = plug_in_charge_df.rename(columns={\n",
    "    \"end_plugin\": \"end\", \n",
    "    \"stream_plugin\": \"stream\",\n",
    "    \"value_plugin\": \"value\", \n",
    "    \"value_batt_level\": \"start_batt_level\"\n",
    "})\n",
    "\n",
    "# Ensure 'start' column retains datetime format\n",
    "plug_in_charge_df['start'] = pd.to_datetime(plug_in_charge_df['start'])\n",
    "\n",
    "# View resultant DataFrame\n",
    "pd.set_option('display.max_colwidth', None)\n",
    "print(plug_in_charge_df.head())"
   ]
  },
  {
   "cell_type": "code",
   "execution_count": 48,
   "id": "d3a03378-ab0a-4f6b-bebf-caf8b138463e",
   "metadata": {},
   "outputs": [
    {
     "name": "stdout",
     "output_type": "stream",
     "text": [
      "         start                 end               stream  value  \\\n",
      "0   2020-03-02 2020-03-02 19:25:00  /device/isPluggedIn    0.0   \n",
      "1   2020-03-02 2020-03-02 14:32:00  /device/isPluggedIn    0.0   \n",
      "2   2020-03-02 2020-03-02 00:50:00  /device/isPluggedIn    1.0   \n",
      "3   2020-03-02 2020-03-02 01:36:00  /device/isPluggedIn    0.0   \n",
      "4   2020-03-02 2020-03-02 01:12:00  /device/isPluggedIn    0.0   \n",
      "..         ...                 ...                  ...    ...   \n",
      "121 2020-03-02 2020-03-02 02:55:00  /device/isPluggedIn    0.0   \n",
      "122 2020-03-02 2020-03-02 01:02:00  /device/isPluggedIn    1.0   \n",
      "124 2020-03-02 2020-03-02 05:01:00  /device/isPluggedIn    0.0   \n",
      "126 2020-03-02 2020-03-02 07:17:00  /device/isPluggedIn    0.0   \n",
      "127 2020-03-02 2020-03-02 02:26:00  /device/isPluggedIn    1.0   \n",
      "\n",
      "                                  user_id  duration  start_batt_level  \n",
      "0    9a61aa24-63ad-4b34-95da-337bd3b7781a    1165.0             100.0  \n",
      "1    d7f08ba6-7a3e-4980-bef6-ad8c025edd2c     872.0              62.0  \n",
      "2    590d70a3-5a11-42be-8105-379bb03238b0      50.0              85.0  \n",
      "3    2a07732a-92ee-4d75-a11f-6b9aba555f25      96.0             100.0  \n",
      "4    9e5bdf00-cf4f-409c-a724-6c37068ab689      72.0              40.0  \n",
      "..                                    ...       ...               ...  \n",
      "121  a0461b6d-2f5d-42e5-b5c4-d70ea775039b     175.0              62.0  \n",
      "122  52efd7ca-41ae-4766-854e-a58b34eecc72      62.0              88.0  \n",
      "124  86662e12-3676-4ab7-a497-07d3a511f23a     301.0              63.0  \n",
      "126  8b57ede1-5a91-4035-b928-ef28d56a0655     437.0              79.0  \n",
      "127  b0989f4f-f7f3-4a1a-979d-f4c6f7a0b9ed     146.0             100.0  \n",
      "\n",
      "[100 rows x 7 columns]\n"
     ]
    }
   ],
   "source": [
    "plug_in_charge_df = plug_in_charge_df[plug_in_charge_df['start'].dt.year <= 2021]\n",
    "\n",
    "# Remove rows with 0-length or charge lengths >= 48 hours (2880 minutes)\n",
    "plug_in_charge_df = plug_in_charge_df[(plug_in_charge_df['duration'] > 0) & (plug_in_charge_df['duration'] < 2880)]\n",
    "\n",
    "# Handle missing values by removing rows with any missing values\n",
    "plug_in_charge_df = plug_in_charge_df.dropna()\n",
    "plug_in_charge_df = plug_in_charge_df.drop_duplicates()\n",
    "plug_in_charge_df['start'] = pd.to_datetime(plug_in_charge_df['start'])\n",
    "plug_in_charge_df['end'] = pd.to_datetime(plug_in_charge_df['end'])\n",
    "plug_in_charge_df['duration'] = plug_in_charge_df['duration'].astype(float)\n",
    "\n",
    "pd.set_option('display.max_colwidth', None)\n",
    "# Print the resulting DataFrame\n",
    "print(plug_in_charge_df.head(100))"
   ]
  },
  {
   "cell_type": "code",
   "execution_count": 14,
   "id": "4c9729bd-1e38-4fc2-a054-0baec03cff77",
   "metadata": {},
   "outputs": [
    {
     "name": "stdout",
     "output_type": "stream",
     "text": [
      "0         2020-03-02 00:00:00\n",
      "1         2020-03-02 00:00:00\n",
      "2         2020-03-02 00:00:00\n",
      "3         2020-03-02 00:00:00\n",
      "4         2020-03-02 00:00:00\n",
      "                  ...        \n",
      "2259667   2020-09-23 21:27:00\n",
      "2259668   2020-09-23 21:28:00\n",
      "2259671   2020-09-23 21:29:00\n",
      "2259675   2020-09-23 21:30:00\n",
      "2259678   2020-11-28 07:31:00\n",
      "Name: start, Length: 1562005, dtype: datetime64[ns]\n"
     ]
    }
   ],
   "source": [
    "print(plug_in_charge_df['start'])"
   ]
  },
  {
   "cell_type": "code",
   "execution_count": 2,
   "id": "0d3893ce-62f1-4262-9417-5935027dba9a",
   "metadata": {},
   "outputs": [
    {
     "name": "stdout",
     "output_type": "stream",
     "text": [
      "Requirement already satisfied: checks in /Users/taylormcwilliam/miniconda3/envs/deep-learning/lib/python3.8/site-packages (0.2)\n",
      "\n",
      "\u001b[1m[\u001b[0m\u001b[34;49mnotice\u001b[0m\u001b[1;39;49m]\u001b[0m\u001b[39;49m A new release of pip is available: \u001b[0m\u001b[31;49m24.1.2\u001b[0m\u001b[39;49m -> \u001b[0m\u001b[32;49m24.2\u001b[0m\n",
      "\u001b[1m[\u001b[0m\u001b[34;49mnotice\u001b[0m\u001b[1;39;49m]\u001b[0m\u001b[39;49m To update, run: \u001b[0m\u001b[32;49mpip install --upgrade pip\u001b[0m\n",
      "Note: you may need to restart the kernel to use updated packages.\n"
     ]
    }
   ],
   "source": [
    "pip install checks"
   ]
  },
  {
   "cell_type": "code",
   "execution_count": null,
   "id": "9b59a378-0c92-4c96-b065-36a6da09c10c",
   "metadata": {},
   "outputs": [],
   "source": [
    "from checks import noise_tests\n",
    "\n",
    "noise_tests(plug_in_charge_df)"
   ]
  },
  {
   "cell_type": "code",
   "execution_count": 15,
   "id": "be38fd01-b049-470c-b8fc-a636a2f43053",
   "metadata": {},
   "outputs": [],
   "source": [
    "#\n",
    "      "
   ]
  },
  {
   "cell_type": "code",
   "execution_count": 44,
   "id": "246a190b-9a09-4d30-8c9b-dcde8e7096be",
   "metadata": {},
   "outputs": [],
   "source": [
    "import pandas as pd\n",
    "from sklearn.model_selection import train_test_split\n",
    "from sklearn.linear_model import LinearRegression\n",
    "from sklearn.metrics import mean_squared_error\n",
    "\n",
    "\n",
    "# Extract additional features\n",
    "#plug_in_charge_df['start_hour'] = plug_in_charge_df['start'].dt.hour\n",
    "#plug_in_charge_df['start_dayofweek'] = plug_in_charge_df['start'].dt.dayofweek\n",
    "\n",
    "# Calculate average charging duration for each user\n",
    "#user_avg_duration = plug_in_charge_df.groupby('user_id')['duration'].mean().reset_index()\n",
    "#user_avg_duration.columns = ['user_id', 'avg_duration']\n",
    "#plug_in_charge_df = plug_in_charge_df.merge(user_avg_duration, on='user_id', how='left')\n"
   ]
  },
  {
   "cell_type": "code",
   "execution_count": 49,
   "id": "04379cf1-02f5-49bc-ac98-986bff73a0d2",
   "metadata": {},
   "outputs": [
    {
     "name": "stdout",
     "output_type": "stream",
     "text": [
      "       start                 end               stream  value  \\\n",
      "0 2020-03-02 2020-03-02 19:25:00  /device/isPluggedIn    0.0   \n",
      "1 2020-03-02 2020-03-02 14:32:00  /device/isPluggedIn    0.0   \n",
      "2 2020-03-02 2020-03-02 00:50:00  /device/isPluggedIn    1.0   \n",
      "3 2020-03-02 2020-03-02 01:36:00  /device/isPluggedIn    0.0   \n",
      "4 2020-03-02 2020-03-02 01:12:00  /device/isPluggedIn    0.0   \n",
      "\n",
      "                                user_id  duration  start_batt_level  \n",
      "0  9a61aa24-63ad-4b34-95da-337bd3b7781a    1165.0             100.0  \n",
      "1  d7f08ba6-7a3e-4980-bef6-ad8c025edd2c     872.0              62.0  \n",
      "2  590d70a3-5a11-42be-8105-379bb03238b0      50.0              85.0  \n",
      "3  2a07732a-92ee-4d75-a11f-6b9aba555f25      96.0             100.0  \n",
      "4  9e5bdf00-cf4f-409c-a724-6c37068ab689      72.0              40.0  \n"
     ]
    }
   ],
   "source": [
    "updated_pickle_path = '/Users/taylormcwilliam/Desktop/GitHub/OBC_Deep_learning/temp_data/aiedu_battery_charging-1.0.0/data/updated_plug_in_charge_df.pkl'\n",
    "plug_in_charge_df.to_pickle(updated_pickle_path)\n",
    "\n",
    "# Print the resulting DataFrame\n",
    "print(plug_in_charge_df.head())"
   ]
  },
  {
   "cell_type": "code",
   "execution_count": 30,
   "id": "2776557c-46d6-4d3a-b660-e3e6b08c8ccc",
   "metadata": {},
   "outputs": [],
   "source": [
    "#X = plug_in_charge_df[['start_hour', 'start_dayofweek', 'start_batt_level', 'avg_duration']]\n",
    "#y = plug_in_charge_df['duration']\n",
    "\n",
    "# Split the data into training and testing sets\n",
    "#X_train, X_test, y_train, y_test = train_test_split(X, y, test_size=0.2, random_state=42)"
   ]
  },
  {
   "cell_type": "code",
   "execution_count": null,
   "id": "764bb7ca-060a-460f-b5ca-82819bb94c35",
   "metadata": {},
   "outputs": [],
   "source": []
  },
  {
   "cell_type": "markdown",
   "id": "a60dbc3e-a16c-4f2c-a814-8a37db1c797b",
   "metadata": {},
   "source": [
    "#def charging_strategy(start_hour, start_dayofweek, start_batt_level, avg_duration):\n",
    "    # Create a DataFrame for the input features\n",
    "    input_data = pd.DataFrame({\n",
    "        'start_hour': [start_hour],\n",
    "        'start_dayofweek': [start_dayofweek],\n",
    "        'start_batt_level': [start_batt_level],\n",
    "        'avg_duration': [avg_duration]\n",
    "    })\n",
    "    \n",
    "    # Predict the duration of the charging event\n",
    "    predicted_duration = model.predict(input_data)[0]\n",
    "    \n",
    "    # Implement the rule-based strategy\n",
    "    if predicted_duration < 60:  # Short charge\n",
    "        return \"Allow full charge\"\n",
    "    elif start_hour >= 22 or start_hour < 6:  # Overnight charge\n",
    "        return \"Trickle charge at 80%\"\n",
    "    else:\n",
    "        return \"Taper off at 80%\"\n",
    "\n",
    "# Example usage\n",
    "example_start_hour = 8\n",
    "example_start_dayofweek = 1\n",
    "example_start_batt_level = 50\n",
    "example_avg_duration = 400\n",
    "\n",
    "strategy = charging_strategy(example_start_hour, example_start_dayofweek, example_start_batt_level, example_avg_duration)\n",
    "print(f\"Charging Strategy: {strategy}\")###\n"
   ]
  },
  {
   "cell_type": "code",
   "execution_count": 55,
   "id": "9beb036e-a06f-4134-8d7f-f1a08947b8b8",
   "metadata": {},
   "outputs": [
    {
     "name": "stdout",
     "output_type": "stream",
     "text": [
      "Training DataFrame:\n",
      "                      start                 end               stream  value  \\\n",
      "1578101 2020-03-24 23:31:00 2020-03-25 00:38:00  /device/isPluggedIn    1.0   \n",
      "848355  2020-03-15 16:14:00 2020-03-15 16:55:00  /device/isPluggedIn    1.0   \n",
      "290821  2020-03-08 15:19:00 2020-03-08 15:49:00  /device/isPluggedIn    1.0   \n",
      "980427  2020-03-17 08:33:00 2020-03-17 10:28:00  /device/isPluggedIn    0.0   \n",
      "2173914 2020-04-02 19:45:00 2020-04-02 23:35:00  /device/isPluggedIn    0.0   \n",
      "\n",
      "                                      user_id  duration  start_batt_level  \n",
      "1578101  2f9a4877-7da9-491b-bcf8-6eb21767ade5      67.0              61.0  \n",
      "848355   13e7ef65-c855-4428-a420-aff0a4776cd5      41.0              42.0  \n",
      "290821   54104729-36e7-4840-9255-47cb014adc1c      30.0              49.0  \n",
      "980427   f2d91bfc-7985-45e2-8ecd-a1fb0369c779     115.0              99.0  \n",
      "2173914  39a033c2-5294-403e-8055-9afcb2ea10a3     230.0              99.0  \n",
      "Testing DataFrame:\n",
      "                      start                 end               stream  value  \\\n",
      "673216  2020-03-13 09:09:00 2020-03-13 09:38:00  /device/isPluggedIn    1.0   \n",
      "60629   2020-03-04 17:34:00 2020-03-04 20:56:00  /device/isPluggedIn    0.0   \n",
      "239723  2020-03-07 23:13:00 2020-03-08 00:58:00  /device/isPluggedIn    1.0   \n",
      "1257659 2020-03-20 19:53:00 2020-03-20 20:19:00  /device/isPluggedIn    1.0   \n",
      "1556710 2020-03-24 16:36:00 2020-03-24 17:05:00  /device/isPluggedIn    1.0   \n",
      "\n",
      "                                      user_id  duration  start_batt_level  \n",
      "673216   478e5242-0893-4d46-bd4b-b7f65b2c8501      29.0              27.0  \n",
      "60629    1ff65d86-67a9-4ccb-acac-a55d8084d712     202.0             100.0  \n",
      "239723   d5e6d156-b365-4a55-a62e-4503cf59644e     105.0               2.0  \n",
      "1257659  ed9e7486-b4fb-4a58-a253-f5244324d03a      26.0             100.0  \n",
      "1556710  f6e11c7a-e6b6-41a9-8311-bd732da01b25      29.0              45.0  \n"
     ]
    }
   ],
   "source": [
    "train_df, test_df = train_test_split(plug_in_charge_df, test_size=0.2, random_state=42)\n",
    "\n",
    "# Print the resulting DataFrames\n",
    "print(\"Training DataFrame:\")\n",
    "print(train_df.head())\n",
    "\n",
    "print(\"Testing DataFrame:\")\n",
    "print(test_df.head())"
   ]
  },
  {
   "cell_type": "code",
   "execution_count": 56,
   "id": "cc3b63ce-24df-4a44-a29d-d6e68e8046e3",
   "metadata": {},
   "outputs": [
    {
     "name": "stdout",
     "output_type": "stream",
     "text": [
      "['00cceb77-4252-4da3-920a-bc9894c3fdb2']\n"
     ]
    }
   ],
   "source": [
    "unique_test_users = list(set(test_df['user_id'].unique()) - set(train_df['user_id'].unique()))\n",
    "print(unique_test_users)\n",
    "\n",
    "# find and display all rows with just this user\n",
    "#selection = test_df[test_df['user_id'].isin(unique_test_users)]\n",
    "#print(selection)"
   ]
  },
  {
   "cell_type": "code",
   "execution_count": 57,
   "id": "43a35c14-8275-421e-965d-16c4a632c792",
   "metadata": {},
   "outputs": [],
   "source": [
    "test_df = test_df[~test_df['user_id'].isin(unique_test_users)]"
   ]
  },
  {
   "cell_type": "code",
   "execution_count": 58,
   "id": "dab87bbf-0b9a-4814-897a-f919733e2252",
   "metadata": {},
   "outputs": [
    {
     "name": "stdout",
     "output_type": "stream",
     "text": [
      "[]\n"
     ]
    }
   ],
   "source": [
    "unique_test_users = list(set(test_df['user_id'].unique()) - set(train_df['user_id'].unique()))\n",
    "print(unique_test_users)"
   ]
  },
  {
   "cell_type": "code",
   "execution_count": 78,
   "id": "49e25280-a9b2-46d1-b279-335f23eaf038",
   "metadata": {},
   "outputs": [
    {
     "name": "stdout",
     "output_type": "stream",
     "text": [
      "         start                 end               stream  value  \\\n",
      "63  2020-03-02 2020-03-02 00:45:00  /device/isPluggedIn    1.0   \n",
      "18  2020-03-02 2020-03-02 00:04:00  /device/isPluggedIn    1.0   \n",
      "70  2020-03-02 2020-03-03 14:27:00  /device/isPluggedIn    0.0   \n",
      "136 2020-03-02 2020-03-02 00:18:00  /device/isPluggedIn    0.0   \n",
      "10  2020-03-02 2020-03-02 00:32:00  /device/isPluggedIn    1.0   \n",
      "\n",
      "                                  user_id  duration  start_batt_level  \n",
      "63   177f17f6-37ad-4f17-9dc1-18c336c46cb4      45.0              80.0  \n",
      "18   d1d8f32e-e50b-42aa-b9d7-a4cc0bdfb4d2       4.0               9.0  \n",
      "70   e339bd42-2b43-46b4-ac2d-0307688b2e12    2307.0              77.0  \n",
      "136  fdc82fb1-5dc3-4d47-a86d-7b4a4eda7f3d      18.0              48.0  \n",
      "10   98688ee1-3deb-4f61-92c5-e0db9e5421b7      32.0              89.0  \n",
      "         start                 end               stream  value  \\\n",
      "59  2020-03-02 2020-03-02 20:27:00  /device/isPluggedIn    1.0   \n",
      "15  2020-03-02 2020-03-02 00:53:00  /device/isPluggedIn    0.0   \n",
      "48  2020-03-02 2020-03-02 00:26:00  /device/isPluggedIn    1.0   \n",
      "42  2020-03-02 2020-03-02 20:58:00  /device/isPluggedIn    1.0   \n",
      "153 2020-03-02 2020-03-02 09:07:00  /device/isPluggedIn    0.0   \n",
      "\n",
      "                                  user_id  duration  start_batt_level  \n",
      "59   96efe520-9893-4e65-a53a-7051944286c8    1227.0              64.0  \n",
      "15   f5f93493-8520-4a6a-9c10-6c35e0382748      53.0              71.0  \n",
      "48   fd53a044-3e2f-43dd-a42b-5a6e702fb3d5      26.0               6.0  \n",
      "42   7ed130f0-411d-426d-8d4a-0fb6e8478e18    1258.0               3.0  \n",
      "153  782b039d-6b4b-4dd1-a34c-4d586c4270b2     547.0              55.0  \n"
     ]
    }
   ],
   "source": [
    "updated_pickle_path_train = '/Users/taylormcwilliam/Desktop/GitHub/OBC_Deep_learning/temp_data/aiedu_battery_charging-1.0.0/data/updated_train_df.pkl'\n",
    "updated_pickle_path_test = '/Users/taylormcwilliam/Desktop/GitHub/OBC_Deep_learning/temp_data/aiedu_battery_charging-1.0.0/data/updated_test_df.pkl'\n",
    "train_df = train_df.sort_values(by='start')\n",
    "test_df = test_df.sort_values(by='start')\n",
    "\n",
    "# Save the sorted DataFrames to pickle files\n",
    "\n",
    "train_df.to_pickle(updated_pickle_path_train)\n",
    "test_df.to_pickle(updated_pickle_path_test)\n",
    "\n",
    "# Print the resulting DataFrames to verify\n",
    "print(train_df.head())\n",
    "print(test_df.head())"
   ]
  },
  {
   "cell_type": "code",
   "execution_count": 82,
   "id": "a7020585-4bac-4e29-afa4-5fb0e59cc058",
   "metadata": {},
   "outputs": [
    {
     "data": {
      "text/html": [
       "<div>\n",
       "<style scoped>\n",
       "    .dataframe tbody tr th:only-of-type {\n",
       "        vertical-align: middle;\n",
       "    }\n",
       "\n",
       "    .dataframe tbody tr th {\n",
       "        vertical-align: top;\n",
       "    }\n",
       "\n",
       "    .dataframe thead th {\n",
       "        text-align: right;\n",
       "    }\n",
       "</style>\n",
       "<table border=\"1\" class=\"dataframe\">\n",
       "  <thead>\n",
       "    <tr style=\"text-align: right;\">\n",
       "      <th></th>\n",
       "      <th>start</th>\n",
       "      <th>end</th>\n",
       "      <th>stream</th>\n",
       "      <th>value</th>\n",
       "      <th>user_id</th>\n",
       "      <th>duration</th>\n",
       "      <th>start_batt_level</th>\n",
       "    </tr>\n",
       "  </thead>\n",
       "  <tbody>\n",
       "    <tr>\n",
       "      <th>96</th>\n",
       "      <td>2020-03-02 00:00:00</td>\n",
       "      <td>2020-03-02 04:42:00</td>\n",
       "      <td>/device/isPluggedIn</td>\n",
       "      <td>0.0</td>\n",
       "      <td>aa2db206-fd77-4da4-8a87-4b3431c37573</td>\n",
       "      <td>282.0</td>\n",
       "      <td>100.0</td>\n",
       "    </tr>\n",
       "    <tr>\n",
       "      <th>2911</th>\n",
       "      <td>2020-03-02 04:42:00</td>\n",
       "      <td>2020-03-02 04:47:00</td>\n",
       "      <td>/device/isPluggedIn</td>\n",
       "      <td>1.0</td>\n",
       "      <td>aa2db206-fd77-4da4-8a87-4b3431c37573</td>\n",
       "      <td>5.0</td>\n",
       "      <td>53.0</td>\n",
       "    </tr>\n",
       "    <tr>\n",
       "      <th>2979</th>\n",
       "      <td>2020-03-02 04:47:00</td>\n",
       "      <td>2020-03-02 04:48:00</td>\n",
       "      <td>/device/isPluggedIn</td>\n",
       "      <td>0.0</td>\n",
       "      <td>aa2db206-fd77-4da4-8a87-4b3431c37573</td>\n",
       "      <td>1.0</td>\n",
       "      <td>59.0</td>\n",
       "    </tr>\n",
       "    <tr>\n",
       "      <th>2986</th>\n",
       "      <td>2020-03-02 04:48:00</td>\n",
       "      <td>2020-03-02 05:10:00</td>\n",
       "      <td>/device/isPluggedIn</td>\n",
       "      <td>1.0</td>\n",
       "      <td>aa2db206-fd77-4da4-8a87-4b3431c37573</td>\n",
       "      <td>22.0</td>\n",
       "      <td>59.0</td>\n",
       "    </tr>\n",
       "    <tr>\n",
       "      <th>3150</th>\n",
       "      <td>2020-03-02 05:13:00</td>\n",
       "      <td>2020-03-02 13:24:00</td>\n",
       "      <td>/device/isPluggedIn</td>\n",
       "      <td>0.0</td>\n",
       "      <td>aa2db206-fd77-4da4-8a87-4b3431c37573</td>\n",
       "      <td>491.0</td>\n",
       "      <td>76.0</td>\n",
       "    </tr>\n",
       "    <tr>\n",
       "      <th>6832</th>\n",
       "      <td>2020-03-02 13:24:00</td>\n",
       "      <td>2020-03-02 18:18:00</td>\n",
       "      <td>/device/isPluggedIn</td>\n",
       "      <td>1.0</td>\n",
       "      <td>aa2db206-fd77-4da4-8a87-4b3431c37573</td>\n",
       "      <td>294.0</td>\n",
       "      <td>20.0</td>\n",
       "    </tr>\n",
       "    <tr>\n",
       "      <th>13178</th>\n",
       "      <td>2020-03-03 01:02:00</td>\n",
       "      <td>2020-03-03 04:12:00</td>\n",
       "      <td>/device/isPluggedIn</td>\n",
       "      <td>0.0</td>\n",
       "      <td>aa2db206-fd77-4da4-8a87-4b3431c37573</td>\n",
       "      <td>190.0</td>\n",
       "      <td>80.0</td>\n",
       "    </tr>\n",
       "    <tr>\n",
       "      <th>16116</th>\n",
       "      <td>2020-03-03 04:12:00</td>\n",
       "      <td>2020-03-03 05:08:00</td>\n",
       "      <td>/device/isPluggedIn</td>\n",
       "      <td>1.0</td>\n",
       "      <td>aa2db206-fd77-4da4-8a87-4b3431c37573</td>\n",
       "      <td>56.0</td>\n",
       "      <td>26.0</td>\n",
       "    </tr>\n",
       "    <tr>\n",
       "      <th>16915</th>\n",
       "      <td>2020-03-03 05:08:00</td>\n",
       "      <td>2020-03-03 13:14:00</td>\n",
       "      <td>/device/isPluggedIn</td>\n",
       "      <td>0.0</td>\n",
       "      <td>aa2db206-fd77-4da4-8a87-4b3431c37573</td>\n",
       "      <td>486.0</td>\n",
       "      <td>72.0</td>\n",
       "    </tr>\n",
       "    <tr>\n",
       "      <th>23857</th>\n",
       "      <td>2020-03-03 13:14:00</td>\n",
       "      <td>2020-03-03 13:23:00</td>\n",
       "      <td>/device/isPluggedIn</td>\n",
       "      <td>1.0</td>\n",
       "      <td>aa2db206-fd77-4da4-8a87-4b3431c37573</td>\n",
       "      <td>9.0</td>\n",
       "      <td>16.0</td>\n",
       "    </tr>\n",
       "  </tbody>\n",
       "</table>\n",
       "</div>"
      ],
      "text/plain": [
       "                    start                 end               stream  value  \\\n",
       "96    2020-03-02 00:00:00 2020-03-02 04:42:00  /device/isPluggedIn    0.0   \n",
       "2911  2020-03-02 04:42:00 2020-03-02 04:47:00  /device/isPluggedIn    1.0   \n",
       "2979  2020-03-02 04:47:00 2020-03-02 04:48:00  /device/isPluggedIn    0.0   \n",
       "2986  2020-03-02 04:48:00 2020-03-02 05:10:00  /device/isPluggedIn    1.0   \n",
       "3150  2020-03-02 05:13:00 2020-03-02 13:24:00  /device/isPluggedIn    0.0   \n",
       "6832  2020-03-02 13:24:00 2020-03-02 18:18:00  /device/isPluggedIn    1.0   \n",
       "13178 2020-03-03 01:02:00 2020-03-03 04:12:00  /device/isPluggedIn    0.0   \n",
       "16116 2020-03-03 04:12:00 2020-03-03 05:08:00  /device/isPluggedIn    1.0   \n",
       "16915 2020-03-03 05:08:00 2020-03-03 13:14:00  /device/isPluggedIn    0.0   \n",
       "23857 2020-03-03 13:14:00 2020-03-03 13:23:00  /device/isPluggedIn    1.0   \n",
       "\n",
       "                                    user_id  duration  start_batt_level  \n",
       "96     aa2db206-fd77-4da4-8a87-4b3431c37573     282.0             100.0  \n",
       "2911   aa2db206-fd77-4da4-8a87-4b3431c37573       5.0              53.0  \n",
       "2979   aa2db206-fd77-4da4-8a87-4b3431c37573       1.0              59.0  \n",
       "2986   aa2db206-fd77-4da4-8a87-4b3431c37573      22.0              59.0  \n",
       "3150   aa2db206-fd77-4da4-8a87-4b3431c37573     491.0              76.0  \n",
       "6832   aa2db206-fd77-4da4-8a87-4b3431c37573     294.0              20.0  \n",
       "13178  aa2db206-fd77-4da4-8a87-4b3431c37573     190.0              80.0  \n",
       "16116  aa2db206-fd77-4da4-8a87-4b3431c37573      56.0              26.0  \n",
       "16915  aa2db206-fd77-4da4-8a87-4b3431c37573     486.0              72.0  \n",
       "23857  aa2db206-fd77-4da4-8a87-4b3431c37573       9.0              16.0  "
      ]
     },
     "execution_count": 82,
     "metadata": {},
     "output_type": "execute_result"
    }
   ],
   "source": [
    "# selecting one user\n",
    "select_user = train_df['user_id'].unique()[10]\n",
    "one_user_filter = train_df['user_id'] == select_user\n",
    "\n",
    "# grabbing select data and viewing a few rows\n",
    "one_user_df = train_df[one_user_filter].copy()\n",
    "one_user_df.head(10)"
   ]
  },
  {
   "cell_type": "code",
   "execution_count": 83,
   "id": "98683a4a-2cbf-49b8-9bbd-97aee69bf174",
   "metadata": {},
   "outputs": [
    {
     "data": {
      "image/png": "[encoded data removed]",
      "text/plain": [
       "<Figure size 1200x400 with 1 Axes>"
      ]
     },
     "metadata": {},
     "output_type": "display_data"
    }
   ],
   "source": [
    "start_date = one_user_df['start'].iloc[0]\n",
    "end_date = one_user_df['start'].iloc[0] + datetime.timedelta(days=1)\n",
    "one_day = (one_user_df['start'] >= start_date) & (one_user_df['start'] < end_date)\n",
    "\n",
    "# make plot\n",
    "plt.figure(figsize=(12,4))\n",
    "plt.plot(one_user_df[one_day]['start'], one_user_df[one_day]['duration'], '.' , markersize=10)\n",
    "plt.xlabel('start time', fontsize=14)\n",
    "plt.ylabel('charge duration', fontsize=14);"
   ]
  },
  {
   "cell_type": "code",
   "execution_count": 84,
   "id": "ae52517b-15df-4c22-84e5-be041929c274",
   "metadata": {},
   "outputs": [
    {
     "data": {
      "text/plain": [
       "[<matplotlib.lines.Line2D at 0x16af5c2b0>]"
      ]
     },
     "execution_count": 84,
     "metadata": {},
     "output_type": "execute_result"
    },
    {
     "data": {
      "image/png": "[encoded data removed]",
      "text/plain": [
       "<Figure size 1200x1200 with 3 Axes>"
      ]
     },
     "metadata": {},
     "output_type": "display_data"
    }
   ],
   "source": [
    "fig, (ax1, ax2, ax3) = plt.subplots(3, figsize=(12,12))\n",
    "fig.suptitle('3 days of charge behavior')\n",
    "\n",
    "start_date = one_user_df['start'].iloc[0]\n",
    "end_date = one_user_df['start'].iloc[0] + datetime.timedelta(days=1)\n",
    "day_1 = (one_user_df['start'] >= start_date) & (one_user_df['start'] < end_date)\n",
    "day_2 = (one_user_df['start'] >= end_date) & (one_user_df['start'] < end_date + datetime.timedelta(days=1))\n",
    "day_3 = (one_user_df['start'] >= end_date + datetime.timedelta(days=1)) & (one_user_df['start'] < end_date + datetime.timedelta(days=2))\n",
    "\n",
    "ax1.plot(one_user_df[day_1]['start'], one_user_df[day_1]['duration'], '.' , markersize=10)\n",
    "ax2.plot(one_user_df[day_2]['start'], one_user_df[day_2]['duration'], '.' , markersize=10)\n",
    "ax3.plot(one_user_df[day_3]['start'], one_user_df[day_3]['duration'], '.' , markersize=10)"
   ]
  },
  {
   "cell_type": "code",
   "execution_count": null,
   "id": "14019464-9c62-4a26-85bd-4a34341c8f87",
   "metadata": {},
   "outputs": [],
   "source": []
  }
 ],
 "metadata": {
  "kernelspec": {
   "display_name": "Python 3 (ipykernel)",
   "language": "python",
   "name": "python3"
  },
  "language_info": {
   "codemirror_mode": {
    "name": "ipython",
    "version": 3
   },
   "file_extension": ".py",
   "mimetype": "text/x-python",
   "name": "python",
   "nbconvert_exporter": "python",
   "pygments_lexer": "ipython3",
   "version": "3.8.19"
  }
 },
 "nbformat": 4,
 "nbformat_minor": 5
}
