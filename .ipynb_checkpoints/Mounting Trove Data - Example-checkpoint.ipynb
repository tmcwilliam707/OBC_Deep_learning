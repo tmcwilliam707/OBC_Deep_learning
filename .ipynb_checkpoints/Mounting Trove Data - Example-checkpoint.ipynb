{
 "cells": [
  {
   "cell_type": "markdown",
   "metadata": {},
   "source": [
    "# Mount and Explore a Trove Dataset\n",
    "\n",
    "In this notebook, we will address a couple of commonly used tools and strategies for working with Trove datasets: \n",
    "* Mount or download the data (accepting terms of use)\n",
    "* Use pandas to convert the data into a useful format, a DataFrame\n",
    "* Explore the DataFrame using simple descriptive stats and data visualizations\n",
    "* Unmount the dataset when we are done working with it (you can always re-mount later)\n",
    "\n",
    "In the example below, we'll be loading in the a run/walk motion dataset from Trove, and storing it in a temporary data directory that we define. \n",
    "\n",
    "**Options**: There is an option to load this data as a volume using macFUSE and an option to download the data directly to your Mac, without the need for macFUSE. \n",
    "\n",
    "So, let's get started!\n",
    "\n",
    "The first thing to note after running the cell below is a short warning that you may get from importing Turi Trove: \"Could not derive your terminal width\"—this is a message you can ignore about finding the size of your Terminal window."
   ]
  },
  {
   "cell_type": "code",
   "execution_count": 1,
   "metadata": {},
   "outputs": [
    {
     "name": "stdout",
     "output_type": "stream",
     "text": [
      "!! Could not derive your terminal width !!\n"
     ]
    }
   ],
   "source": [
    "# import statements\n",
    "import os\n",
    "import zipfile\n",
    "import turitrove as trove\n",
    "import pandas as pd\n"
   ]
  },
  {
   "cell_type": "markdown",
   "metadata": {},
   "source": [
    "# Step 1: Access the data\n",
    "\n",
    "To mount or download a dataset, you can use the trove function:\n",
    "1. Option 1: `mount(<URI>, <local_directory>)` OR\n",
    "2. Option 2: `download(<URI>, <local_directory>)`\n",
    "\n",
    "**⚠️ Important: Option 1 (mount) is for macFUSE users; use option 2 instead (direct download) if you are an Apple Silicon user or anyone who has not chosen to download macFUSE**. \n",
    "\n",
    "Both options will give you a `data_path` to raw data files from Trove. With the direct download approach, you will need to unzip a given file, whereas macFUSE handles unzipping and mounting lareg data files for you.\n",
    "\n",
    "The following two cells show these two alternate ways to download data from Trove. I'll be saving this data in a local directory called `temp_data`, which I make sure to create with a cal to `os.makedirs()`, which I've already created in the same directory as this notebook.\n",
    "\n",
    "### TroveURI\n",
    "I have to access a Trove dataset by URI, which is always formatted as a string path: `'dataset/<name>@<version>'`. The dataset URI for the run/walk data can be found under **TroveURI** on the [dataset Trove page](https://turitrove.apple.com/dataset/run_walk_motion/1.0.0).\n",
    "\n",
    "* At this point, you will likely be prompted to accept the terms of use for this dataset, type `y` to agree. "
   ]
  },
  {
   "cell_type": "code",
   "execution_count": 2,
   "metadata": {},
   "outputs": [],
   "source": [
    "# define the URI of our trove dataset\n",
    "TROVE_URI = 'dataset/run_walk_motion@1.0.0'"
   ]
  },
  {
   "cell_type": "code",
   "execution_count": null,
   "metadata": {},
   "outputs": [],
   "source": [
    "## Option 1: Mounting data \n",
    "\n",
    "# first: use trove.umount() to clean up any mount from prior notebooks\n",
    "trove.umount(TROVE_URI)\n",
    "\n",
    "# create local temp_data dir and download data there\n",
    "if not os.path.isdir('temp_data'):\n",
    "    os.makedirs('temp_data')\n",
    "\n",
    "# second: mount the dataset -- don't forget to specify the local directory you want to use\n",
    "run_walk_trove = trove.mount(TROVE_URI, 'temp_data')\n",
    "\n",
    "# create data_path to raw data files downloaded by Trove and macFUSE\n",
    "data_path = run_walk_trove.raw_file_path + '/'+ run_walk_trove.primary_index['path'][0]"
   ]
  },
  {
   "cell_type": "code",
   "execution_count": 3,
   "metadata": {},
   "outputs": [
    {
     "name": "stdout",
     "output_type": "stream",
     "text": [
      "Download started...\n",
      "Download completed. Checkout /Users/cezannecamacho/Desktop/Deep_Learning/dl-battery-charging/2_environment-setup/temp_data/run_walk_motion-1.0.0/data for your files\n",
      "Extracted data to temp_data/run_walk_motion-1.0.0/data/raw/run_walk_dataset.csv\n"
     ]
    }
   ],
   "source": [
    "## Option 2: Direct download of data \n",
    "\n",
    "# create local temp_data dir and download data there\n",
    "if not os.path.isdir('temp_data'):\n",
    "    os.makedirs('temp_data')\n",
    "\n",
    "# second: download the dataset \n",
    "trove.download(TROVE_URI, 'temp_data')\n",
    "\n",
    "# direct download downloads a zip file which you can extract\n",
    "# these paths will have to be changed according to your trove data\n",
    "data_path = 'temp_data/run_walk_motion-1.0.0/data/raw/'\n",
    "zip_path = 'temp_data/run_walk_motion-1.0.0/data/raw.zip'\n",
    "\n",
    "# extract data from zip path\n",
    "with zipfile.ZipFile(zip_path, 'r') as zip_ref:\n",
    "    zip_ref.extractall(data_path)\n",
    "\n",
    "# add extracted data file to data path\n",
    "data_path = data_path + os.listdir(data_path)[0]\n",
    "print(\"Extracted data to \" + data_path)"
   ]
  },
  {
   "cell_type": "markdown",
   "metadata": {},
   "source": [
    "## Create DataFrame\n",
    "\n",
    "Depending on the format of the file, you can often use a pandas convenience function like `pd.read_csv()` to read in a file as a DataFrame that you can then explore."
   ]
  },
  {
   "cell_type": "code",
   "execution_count": 4,
   "metadata": {},
   "outputs": [],
   "source": [
    "# read in the csv file from the path provided, with pandas\n",
    "run_walk_df = pd.read_csv(data_path)"
   ]
  },
  {
   "cell_type": "code",
   "execution_count": 5,
   "metadata": {},
   "outputs": [
    {
     "data": {
      "text/html": [
       "<div>\n",
       "<style scoped>\n",
       "    .dataframe tbody tr th:only-of-type {\n",
       "        vertical-align: middle;\n",
       "    }\n",
       "\n",
       "    .dataframe tbody tr th {\n",
       "        vertical-align: top;\n",
       "    }\n",
       "\n",
       "    .dataframe thead th {\n",
       "        text-align: right;\n",
       "    }\n",
       "</style>\n",
       "<table border=\"1\" class=\"dataframe\">\n",
       "  <thead>\n",
       "    <tr style=\"text-align: right;\">\n",
       "      <th></th>\n",
       "      <th>date</th>\n",
       "      <th>time</th>\n",
       "      <th>username</th>\n",
       "      <th>wrist</th>\n",
       "      <th>activity</th>\n",
       "      <th>acceleration_x</th>\n",
       "      <th>acceleration_y</th>\n",
       "      <th>acceleration_z</th>\n",
       "      <th>gyro_x</th>\n",
       "      <th>gyro_y</th>\n",
       "      <th>gyro_z</th>\n",
       "    </tr>\n",
       "  </thead>\n",
       "  <tbody>\n",
       "    <tr>\n",
       "      <th>0</th>\n",
       "      <td>2017-6-30</td>\n",
       "      <td>13:51:15:847724020</td>\n",
       "      <td>viktor</td>\n",
       "      <td>0</td>\n",
       "      <td>0</td>\n",
       "      <td>0.2650</td>\n",
       "      <td>-0.7814</td>\n",
       "      <td>-0.0076</td>\n",
       "      <td>-0.0590</td>\n",
       "      <td>0.0325</td>\n",
       "      <td>-2.9296</td>\n",
       "    </tr>\n",
       "    <tr>\n",
       "      <th>1</th>\n",
       "      <td>2017-6-30</td>\n",
       "      <td>13:51:16:246945023</td>\n",
       "      <td>viktor</td>\n",
       "      <td>0</td>\n",
       "      <td>0</td>\n",
       "      <td>0.6722</td>\n",
       "      <td>-1.1233</td>\n",
       "      <td>-0.2344</td>\n",
       "      <td>-0.1757</td>\n",
       "      <td>0.0208</td>\n",
       "      <td>0.1269</td>\n",
       "    </tr>\n",
       "    <tr>\n",
       "      <th>2</th>\n",
       "      <td>2017-6-30</td>\n",
       "      <td>13:51:16:446233987</td>\n",
       "      <td>viktor</td>\n",
       "      <td>0</td>\n",
       "      <td>0</td>\n",
       "      <td>0.4399</td>\n",
       "      <td>-1.4817</td>\n",
       "      <td>0.0722</td>\n",
       "      <td>-0.9105</td>\n",
       "      <td>0.1063</td>\n",
       "      <td>-2.4367</td>\n",
       "    </tr>\n",
       "    <tr>\n",
       "      <th>3</th>\n",
       "      <td>2017-6-30</td>\n",
       "      <td>13:51:16:646117985</td>\n",
       "      <td>viktor</td>\n",
       "      <td>0</td>\n",
       "      <td>0</td>\n",
       "      <td>0.3031</td>\n",
       "      <td>-0.8125</td>\n",
       "      <td>0.0888</td>\n",
       "      <td>0.1199</td>\n",
       "      <td>-0.4099</td>\n",
       "      <td>-2.9336</td>\n",
       "    </tr>\n",
       "    <tr>\n",
       "      <th>4</th>\n",
       "      <td>2017-6-30</td>\n",
       "      <td>13:51:16:846738994</td>\n",
       "      <td>viktor</td>\n",
       "      <td>0</td>\n",
       "      <td>0</td>\n",
       "      <td>0.4814</td>\n",
       "      <td>-0.9312</td>\n",
       "      <td>0.0359</td>\n",
       "      <td>0.0527</td>\n",
       "      <td>0.4379</td>\n",
       "      <td>2.4922</td>\n",
       "    </tr>\n",
       "  </tbody>\n",
       "</table>\n",
       "</div>"
      ],
      "text/plain": [
       "        date                time username  wrist  activity  acceleration_x  \\\n",
       "0  2017-6-30  13:51:15:847724020   viktor      0         0          0.2650   \n",
       "1  2017-6-30  13:51:16:246945023   viktor      0         0          0.6722   \n",
       "2  2017-6-30  13:51:16:446233987   viktor      0         0          0.4399   \n",
       "3  2017-6-30  13:51:16:646117985   viktor      0         0          0.3031   \n",
       "4  2017-6-30  13:51:16:846738994   viktor      0         0          0.4814   \n",
       "\n",
       "   acceleration_y  acceleration_z  gyro_x  gyro_y  gyro_z  \n",
       "0         -0.7814         -0.0076 -0.0590  0.0325 -2.9296  \n",
       "1         -1.1233         -0.2344 -0.1757  0.0208  0.1269  \n",
       "2         -1.4817          0.0722 -0.9105  0.1063 -2.4367  \n",
       "3         -0.8125          0.0888  0.1199 -0.4099 -2.9336  \n",
       "4         -0.9312          0.0359  0.0527  0.4379  2.4922  "
      ]
     },
     "execution_count": 5,
     "metadata": {},
     "output_type": "execute_result"
    }
   ],
   "source": [
    "# view some of the data \n",
    "run_walk_df.head()"
   ]
  },
  {
   "cell_type": "markdown",
   "metadata": {},
   "source": [
    "---\n",
    "# Step 2: Explore the Data\n",
    "\n",
    "Great! At this point, I have successfully read in the csv file and converted it into a DataFrame, which I can then explore. \n",
    "\n",
    "Just from printing out some example values in each column, above, I should begin to get an idea of what information this dataset contains.\n",
    "\n",
    "It is also a good idea to read the description that a Trove dataset author has included on the [dataset Trove page](https://turitrove.apple.com/dataset/run_walk_motion/1.0.0), which can help you figure out what different columns represent. \n",
    "\n",
    "* Read that written description on Trove, then proceed\n",
    "* To describe your data using the pandas function, `.describe()`\n",
    "\n",
    "This function gives you the summary statistics for each column in a DataFrame. "
   ]
  },
  {
   "cell_type": "code",
   "execution_count": 6,
   "metadata": {},
   "outputs": [
    {
     "data": {
      "text/html": [
       "<div>\n",
       "<style scoped>\n",
       "    .dataframe tbody tr th:only-of-type {\n",
       "        vertical-align: middle;\n",
       "    }\n",
       "\n",
       "    .dataframe tbody tr th {\n",
       "        vertical-align: top;\n",
       "    }\n",
       "\n",
       "    .dataframe thead th {\n",
       "        text-align: right;\n",
       "    }\n",
       "</style>\n",
       "<table border=\"1\" class=\"dataframe\">\n",
       "  <thead>\n",
       "    <tr style=\"text-align: right;\">\n",
       "      <th></th>\n",
       "      <th>wrist</th>\n",
       "      <th>activity</th>\n",
       "      <th>acceleration_x</th>\n",
       "      <th>acceleration_y</th>\n",
       "      <th>acceleration_z</th>\n",
       "      <th>gyro_x</th>\n",
       "      <th>gyro_y</th>\n",
       "      <th>gyro_z</th>\n",
       "    </tr>\n",
       "  </thead>\n",
       "  <tbody>\n",
       "    <tr>\n",
       "      <th>count</th>\n",
       "      <td>88588.000000</td>\n",
       "      <td>88588.000000</td>\n",
       "      <td>88588.000000</td>\n",
       "      <td>88588.000000</td>\n",
       "      <td>88588.000000</td>\n",
       "      <td>88588.000000</td>\n",
       "      <td>88588.000000</td>\n",
       "      <td>88588.000000</td>\n",
       "    </tr>\n",
       "    <tr>\n",
       "      <th>mean</th>\n",
       "      <td>0.522170</td>\n",
       "      <td>0.500801</td>\n",
       "      <td>-0.074811</td>\n",
       "      <td>-0.562585</td>\n",
       "      <td>-0.313956</td>\n",
       "      <td>0.004160</td>\n",
       "      <td>0.037203</td>\n",
       "      <td>0.022327</td>\n",
       "    </tr>\n",
       "    <tr>\n",
       "      <th>std</th>\n",
       "      <td>0.499511</td>\n",
       "      <td>0.500002</td>\n",
       "      <td>1.009299</td>\n",
       "      <td>0.658458</td>\n",
       "      <td>0.486815</td>\n",
       "      <td>1.253423</td>\n",
       "      <td>1.198725</td>\n",
       "      <td>1.914423</td>\n",
       "    </tr>\n",
       "    <tr>\n",
       "      <th>min</th>\n",
       "      <td>0.000000</td>\n",
       "      <td>0.000000</td>\n",
       "      <td>-5.350500</td>\n",
       "      <td>-3.299000</td>\n",
       "      <td>-3.753800</td>\n",
       "      <td>-4.430600</td>\n",
       "      <td>-7.464700</td>\n",
       "      <td>-9.480000</td>\n",
       "    </tr>\n",
       "    <tr>\n",
       "      <th>25%</th>\n",
       "      <td>0.000000</td>\n",
       "      <td>0.000000</td>\n",
       "      <td>-0.381800</td>\n",
       "      <td>-1.033500</td>\n",
       "      <td>-0.376000</td>\n",
       "      <td>-0.920700</td>\n",
       "      <td>-0.644825</td>\n",
       "      <td>-1.345125</td>\n",
       "    </tr>\n",
       "    <tr>\n",
       "      <th>50%</th>\n",
       "      <td>1.000000</td>\n",
       "      <td>1.000000</td>\n",
       "      <td>-0.059500</td>\n",
       "      <td>-0.759100</td>\n",
       "      <td>-0.221000</td>\n",
       "      <td>0.018700</td>\n",
       "      <td>0.039300</td>\n",
       "      <td>0.006900</td>\n",
       "    </tr>\n",
       "    <tr>\n",
       "      <th>75%</th>\n",
       "      <td>1.000000</td>\n",
       "      <td>1.000000</td>\n",
       "      <td>0.355500</td>\n",
       "      <td>-0.241775</td>\n",
       "      <td>-0.085900</td>\n",
       "      <td>0.888800</td>\n",
       "      <td>0.733700</td>\n",
       "      <td>1.398200</td>\n",
       "    </tr>\n",
       "    <tr>\n",
       "      <th>max</th>\n",
       "      <td>1.000000</td>\n",
       "      <td>1.000000</td>\n",
       "      <td>5.603300</td>\n",
       "      <td>2.668000</td>\n",
       "      <td>1.640300</td>\n",
       "      <td>4.874200</td>\n",
       "      <td>8.498000</td>\n",
       "      <td>11.266200</td>\n",
       "    </tr>\n",
       "  </tbody>\n",
       "</table>\n",
       "</div>"
      ],
      "text/plain": [
       "              wrist      activity  acceleration_x  acceleration_y  \\\n",
       "count  88588.000000  88588.000000    88588.000000    88588.000000   \n",
       "mean       0.522170      0.500801       -0.074811       -0.562585   \n",
       "std        0.499511      0.500002        1.009299        0.658458   \n",
       "min        0.000000      0.000000       -5.350500       -3.299000   \n",
       "25%        0.000000      0.000000       -0.381800       -1.033500   \n",
       "50%        1.000000      1.000000       -0.059500       -0.759100   \n",
       "75%        1.000000      1.000000        0.355500       -0.241775   \n",
       "max        1.000000      1.000000        5.603300        2.668000   \n",
       "\n",
       "       acceleration_z        gyro_x        gyro_y        gyro_z  \n",
       "count    88588.000000  88588.000000  88588.000000  88588.000000  \n",
       "mean        -0.313956      0.004160      0.037203      0.022327  \n",
       "std          0.486815      1.253423      1.198725      1.914423  \n",
       "min         -3.753800     -4.430600     -7.464700     -9.480000  \n",
       "25%         -0.376000     -0.920700     -0.644825     -1.345125  \n",
       "50%         -0.221000      0.018700      0.039300      0.006900  \n",
       "75%         -0.085900      0.888800      0.733700      1.398200  \n",
       "max          1.640300      4.874200      8.498000     11.266200  "
      ]
     },
     "execution_count": 6,
     "metadata": {},
     "output_type": "execute_result"
    }
   ],
   "source": [
    "# summary stats\n",
    "run_walk_df.describe()"
   ]
  },
  {
   "cell_type": "markdown",
   "metadata": {},
   "source": [
    "From this we can see that `wrist` and `activity` appear to be binary values (which is confirmed by the written description on Trove); which correspond with left/right wrists and run or walk activities. \n",
    "\n",
    "The other variables describe accelerometer and gyroscope measurements in 3 dimensions of movement; these appear to take on a range that goes from negative to positive values. \n",
    "\n",
    "---\n",
    "## More Exploration and Identifying Null Values\n",
    "\n",
    "The next things I might wonder are some standard questions:\n",
    "1. **Missing data**: Are there any missing values in my dataset? These are any rows/cols that have NaN's, otherwise known as null values, which we may want to deal with.\n",
    "2. **Relationships/Hypotheses**: You can imagine that such a dataset may be used to predict whether someone is running or walking, based on their motion inputs... so, a natural next step would be to pose a hypothesis and experimental question: I think that motion is related to activity state; in fact, I think higher motion readings may indicate running versus walking. So, can I look at motion vs activity to confirm that relationship (or refute)?\n",
    "\n",
    "In the next few cells, we see some common ways to identify missing values and visualize data relationships."
   ]
  },
  {
   "cell_type": "code",
   "execution_count": 7,
   "metadata": {},
   "outputs": [
    {
     "data": {
      "text/plain": [
       "date              0\n",
       "time              0\n",
       "username          0\n",
       "wrist             0\n",
       "activity          0\n",
       "acceleration_x    0\n",
       "acceleration_y    0\n",
       "acceleration_z    0\n",
       "gyro_x            0\n",
       "gyro_y            0\n",
       "gyro_z            0\n",
       "dtype: int64"
      ]
     },
     "execution_count": 7,
     "metadata": {},
     "output_type": "execute_result"
    }
   ],
   "source": [
    "# use .isnull() to see if there are any missing values in the DF\n",
    "# sum counts any NaN's up, so 0 = none missing\n",
    "run_walk_df.isnull().sum()"
   ]
  },
  {
   "cell_type": "code",
   "execution_count": 8,
   "metadata": {},
   "outputs": [],
   "source": [
    "# in order to see relationships between variables, I like to visualize how they relate\n",
    "# importing a data viz library, which should be installed in your virtual env\n",
    "import matplotlib.pyplot as plt"
   ]
  },
  {
   "cell_type": "code",
   "execution_count": 9,
   "metadata": {},
   "outputs": [
    {
     "data": {
      "text/plain": [
       "[<matplotlib.lines.Line2D at 0x7fb7177c6880>]"
      ]
     },
     "execution_count": 9,
     "metadata": {},
     "output_type": "execute_result"
    },
    {
     "data": {
      "image/png": "[encoded data removed]",
      "text/plain": [
       "<Figure size 432x288 with 1 Axes>"
      ]
     },
     "metadata": {
      "needs_background": "light"
     },
     "output_type": "display_data"
    }
   ],
   "source": [
    "# pyplot plots at their most basic, take in an x-axis and y-axis to draw\n",
    "\n",
    "# plot acceleration_x as it relates to activity state, as a scatter plot '.'\n",
    "plt.plot(run_walk_df['acceleration_x'], run_walk_df['activity'], '.')"
   ]
  },
  {
   "cell_type": "markdown",
   "metadata": {},
   "source": [
    "**Observations** 📝\n",
    "* We know that run/walk will only take the value 1 or 0.\n",
    "* We can see from this viz that there is certainly a greater range of `acceleration_x` values (between about -6 and +6) associated with the activity 1 (running) versus a smaller range of values associated with 0 (walking). \n",
    "* So our **hypothesis** that a greater amount of motion corresponds with running seems roughly correct.\n",
    "\n",
    "You're welcome to try out many more visualizations, based on your own curiosity or even build an ML model to train a run/walk classifier later on! You'll also learn much more about data transformation and visualization in the next several sections of this course.\n",
    "\n",
    "For now, I will conclude this short example of loading Trove data by **un-mounting the dataset**."
   ]
  },
  {
   "cell_type": "markdown",
   "metadata": {},
   "source": [
    "---\n",
    "# Un-mounting Data\n",
    "\n",
    "Once you are done with a dataset, it is good practice to delete it from your working directory: \n",
    "1. Option 1: IF you are working with macFUSE, you can unmount the data volume, with a call to `umount(TROVE_URI)`.\n",
    "2. Option 2: IF you did a direct download, you can delete these data files as you would any other file. "
   ]
  },
  {
   "cell_type": "code",
   "execution_count": null,
   "metadata": {},
   "outputs": [],
   "source": [
    "## Option 1: use trove.umount(), uncomment the line below\n",
    "# trove.umount(TROVE_URI)\n",
    "\n",
    "## Option 2: dircet delete of files"
   ]
  },
  {
   "cell_type": "markdown",
   "metadata": {},
   "source": [
    "Now that you've seen this example, you should be well-prepared to mount a dataset of your own!\n"
   ]
  }
 ],
 "metadata": {
  "kernelspec": {
   "display_name": "Python 3",
   "language": "python",
   "name": "python3"
  },
  "language_info": {
   "codemirror_mode": {
    "name": "ipython",
    "version": 3
   },
   "file_extension": ".py",
   "mimetype": "text/x-python",
   "name": "python",
   "nbconvert_exporter": "python",
   "pygments_lexer": "ipython3",
   "version": "3.8.8"
  }
 },
 "nbformat": 4,
 "nbformat_minor": 4
}
