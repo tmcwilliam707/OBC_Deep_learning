{
 "cells": [
  {
   "cell_type": "markdown",
   "metadata": {},
   "source": [
    "# Mount and Explore  Battery Charging Data\n",
    "\n",
    "In this notebook, it will be up to you to use Trove to upload a battery charging dataset. Here are the steps that are typically followed when mounting Trove data and which you will be expected to recreate in this notebook:\n",
    "* Read the permissions associated with a dataset (and accepting terms of use) before downloading/mounting it, \n",
    "* Access the data\n",
    "* Use pandas to convert the data into a useful format, a DataFrame\n",
    "* (Optional) Unmount the dataset when we are done working with it (you can always re-mount later)\n",
    "\n",
    "### TroveURI\n",
    "In this exercise, you'll be mounting and exploring some battery charging data that can help with the problem of optimized battery charging.\n",
    "\n",
    "This Trove dataset (which is always formatted as a string path: `'dataset/<name>@<version>'`) is called `aiedu_battery_charging` and the full details and Trove URI can be found on this [Trove dataset page](https://turitrove.apple.com/dataset/aiedu_battery_charging/1.0.0).\n",
    "\n",
    "Your code challenges are marked by specific `##TODO` comments in the code cells below, and/or **EXERCISE** in text cells. "
   ]
  },
  {
   "cell_type": "code",
   "execution_count": null,
   "metadata": {},
   "outputs": [],
   "source": [
    "# import statements\n",
    "import os\n",
    "import zipfile\n",
    "import turitrove as trove\n",
    "import pandas as pd\n"
   ]
  },
  {
   "cell_type": "markdown",
   "metadata": {},
   "source": [
    "### EXERCISE: Access the data\n",
    "\n",
    "To mount or download a dataset, you can use the trove function:\n",
    "1. Option 1: `mount(<URI>, <local_directory>)` OR\n",
    "2. Option 2: `download(<URI>, <local_directory>)`\n",
    "\n",
    "**⚠️ Important: Option 1 (mount) is for macFUSE users; use option 2 instead (direct download) if you are an Apple Silicon user or anyone who has not chosen to download macFUSE**. \n",
    "\n",
    "You may find [the Trove documentation](https://turitrove-docs.apple.com/example.html#explore-data-locally-on-your-machine) useful as a resource. "
   ]
  },
  {
   "cell_type": "code",
   "execution_count": null,
   "metadata": {},
   "outputs": [],
   "source": [
    "## TODO: mount the battery dataset \n",
    "\n"
   ]
  },
  {
   "cell_type": "markdown",
   "metadata": {},
   "source": [
    "## Data path\n",
    "\n",
    "Every Trove data object can be accessed via a local data path. If you're usuing a direct download, you may need to unzip these raw data files, before you can read them in as DataFrames. In this case, you should construct a path to a single, provided data file that you want to explore. \n",
    "\n",
    "You can read in the data from this path using the `pandas` library "
   ]
  },
  {
   "cell_type": "code",
   "execution_count": null,
   "metadata": {},
   "outputs": [],
   "source": [
    "## TODO: construct the csv data path using the raw path + path in primary_index\n",
    "\n",
    "## TODO: read in the csv file from the path provided, with pandas\n"
   ]
  },
  {
   "cell_type": "markdown",
   "metadata": {},
   "source": [
    "# Explore the data\n",
    "\n",
    "Great work! At this point, you should have successfully read in the csv file and converted it into a DataFrame, which you can then explore. \n",
    "\n",
    "Print out some example values in each column, and you should begin to get an idea of what information this dataset contains.\n",
    "\n",
    "It is also a good idea to read the description that a Trove dataset author has included on the [Trove dataset page](https://turitrove.apple.com/dataset/aiedu_battery_charging/1.0.0), which can help you figure out what different columns represent. \n",
    "\n",
    "* Read that written description on Trove, then proceed\n",
    "* To describe your data using the pandas function, `.describe()`\n",
    "\n",
    "This function gives you the summary statistics for each column in a DataFrame. "
   ]
  },
  {
   "cell_type": "code",
   "execution_count": null,
   "metadata": {},
   "outputs": [],
   "source": [
    "## TODO: Explore the data\n",
    "\n"
   ]
  },
  {
   "cell_type": "markdown",
   "metadata": {},
   "source": [
    "**EXERCISE**: Write down 2-3 details about this data that seem interesting to you or that you think may be useful for learning about charging behavior and eventually predicting that charging behavior. \n",
    "\n",
    "There are also some standard questions you may want to investigate in noting these details: \n",
    "1. **Missing data**: Are there any missing values in this dataset? \n",
    "2. **Relationships/Hypotheses**: You can imagine that such a dataset may be used to predict whether someone is going to charge their battery for a long time... so, a natural next step would be to pose a hypothesis and experimental question: How do features in this data relate to certain charging behaviors?\n",
    "\n",
    "Later on, you will be asked to clean and transform this dataset for use in training an ML model. "
   ]
  },
  {
   "cell_type": "code",
   "execution_count": null,
   "metadata": {},
   "outputs": [],
   "source": [
    "# Space for more exploration\n",
    "# It's recommended that you use matplotlib to visualize some feature relationships\n"
   ]
  },
  {
   "cell_type": "markdown",
   "metadata": {},
   "source": [
    "# Unmounting data\n",
    "\n",
    "Once you are done with a dataset, it is good practice to unmount it, so it is not consuming resources, or delete it unless you are still working with it. \n",
    "\n",
    "If you plan to continue working with this data and moving on to the next modules and exercises in this course, you can keep your dataset mounted and refer to it by its local csv path in any new notebook you create. "
   ]
  },
  {
   "cell_type": "code",
   "execution_count": null,
   "metadata": {},
   "outputs": [],
   "source": [
    "## (Optional) TODO: use trove.umount() to unmount your dataset\n"
   ]
  },
  {
   "cell_type": "code",
   "execution_count": null,
   "metadata": {},
   "outputs": [],
   "source": []
  }
 ],
 "metadata": {
  "kernelspec": {
   "display_name": "Python 3",
   "language": "python",
   "name": "python3"
  },
  "language_info": {
   "codemirror_mode": {
    "name": "ipython",
    "version": 3
   },
   "file_extension": ".py",
   "mimetype": "text/x-python",
   "name": "python",
   "nbconvert_exporter": "python",
   "pygments_lexer": "ipython3",
   "version": "3.8.8"
  }
 },
 "nbformat": 4,
 "nbformat_minor": 4
}
